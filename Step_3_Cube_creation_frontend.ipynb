{
 "cells": [
  {
   "cell_type": "markdown",
   "metadata": {},
   "source": [
    "Running this code will compare 21 heat index algorithms from Anderson et al (2013) to Lu and Romps (2022)\n",
    "If using hourly-level data, expect considerable waiting times (8+ hours)"
   ]
  },
  {
   "cell_type": "code",
   "execution_count": 1,
   "metadata": {},
   "outputs": [],
   "source": [
    "%run Step_3_Cube_creation_backend.ipynb"
   ]
  },
  {
   "cell_type": "markdown",
   "metadata": {},
   "source": [
    "## Step 1: Specify filepaths and alike (see below for instructions)"
   ]
  },
  {
   "cell_type": "code",
   "execution_count": null,
   "metadata": {},
   "outputs": [],
   "source": [
    "# //NOTE: THIS CODE REQUIRES ERA5-LAND HOURLY DATA FOR tas and td\n",
    "\n",
    "# tas: temperature at surface (in ˚C)\n",
    "# rh: relative humidity (in %)\n",
    "# td: dew point temperature (in ˚C)\n",
    "# es: water vapor pressure (in kilopascals)\n",
    "\n",
    "# Specify filepaths\n",
    "    # If you have already run the Lu and Romps algorithm to create the 22n'd heat index cube, you can use a file path to that nc file to save a lot of computational time\n",
    "\n",
    "filepaths = {'tas': '/Users/maxwhite/Documents/Met_Office_Work/Heat_index_Algorithms/Data/Limpopo/ERA5-Land/ERA5-Land_tas_hourly_1950_2024_Limpopo.nc',\n",
    "            'td': '/Users/maxwhite/Documents/Met_Office_Work/Heat_index_Algorithms/Data/Limpopo/ERA5-Land/ERA5-Land_td_hourly_1950_2024_Limpopo.nc',\n",
    "            # 'heat_index_22': '/Users/maxwhite/Documents/Met_Office_Work/Heat_index_Algorithms/heat_index_22.nc'\n",
    "            }\n",
    "\n",
    "# Specify start and end year of analyses\n",
    "start_year = 1950\n",
    "end_year = 2024\n",
    "\n",
    "# Specify location name\n",
    "location_name = 'Limpopo'\n",
    "\n",
    "# Specify shapefile to work with\n",
    "shapefile = gpd.read_file('/Users/maxwhite/Documents/Met_Office_Work/Heat_index_Algorithms/Data/Limpopo/Limpopo_Boundaries.geojson')\n",
    "\n",
    "# Specify an output folder for figures\n",
    "output_folder = f'{os.getcwd()}/{location_name}_outputs'\n",
    "if not os.path.exists(output_folder):\n",
    "    os.makedirs(output_folder)\n",
    "\n",
    "unprocessed_output_folder = f'{output_folder}/basic_plots_for_unprocessed_data'\n",
    "if not os.path.exists(unprocessed_output_folder):\n",
    "    os.makedirs(unprocessed_output_folder)"
   ]
  },
  {
   "cell_type": "markdown",
   "metadata": {},
   "source": [
    "## Step 2: Create the basic tas and td cubes"
   ]
  },
  {
   "cell_type": "code",
   "execution_count": null,
   "metadata": {},
   "outputs": [],
   "source": [
    "create_my_files() # creates tas, rh, td, and es cubes (so named, e.g. \"tas_cube\") unless they already exist"
   ]
  },
  {
   "cell_type": "code",
   "execution_count": null,
   "metadata": {},
   "outputs": [],
   "source": [
    "# Speedier version of loading the files if all goes well above but the kernel crashes later on\n",
    "\n",
    "# def load_my_files():\n",
    "    # tas_cube = iris.load_cube(f'{location_name}_tas_hourly_{start_year}-{end_year}.nc')\n",
    "    # td_cube = iris.load_cube(f'{location_name}_td_hourly_{start_year}-{end_year}.nc')\n",
    "    # es_cube = iris.load_cube(f'{location_name}_es_hourly_{start_year}-{end_year}.nc')\n",
    "    # rh_cube = iris.load_cube(f'{location_name}_rh_hourly_{start_year}-{end_year}.nc')"
   ]
  },
  {
   "cell_type": "markdown",
   "metadata": {},
   "source": [
    "## Step 3: Create the first 21 heat index cubes"
   ]
  },
  {
   "cell_type": "code",
   "execution_count": null,
   "metadata": {},
   "outputs": [],
   "source": [
    "create_all_21_heat_indices_cubes()"
   ]
  },
  {
   "cell_type": "markdown",
   "metadata": {},
   "source": [
    "## Step 4: Create the Lu and Romps (2022) cube"
   ]
  },
  {
   "cell_type": "code",
   "execution_count": null,
   "metadata": {},
   "outputs": [],
   "source": [
    "heat_index_lu_and_romps_vectorized_pre_processing(tas_cube, rh_cube)"
   ]
  },
  {
   "cell_type": "code",
   "execution_count": null,
   "metadata": {},
   "outputs": [],
   "source": [
    "heat_index_lu_and_romps_vectorized_processing(daily_tas_cubes, daily_rh_cubes)"
   ]
  },
  {
   "cell_type": "code",
   "execution_count": null,
   "metadata": {},
   "outputs": [],
   "source": [
    "heat_index_lu_and_romps_vectorized_post_processing(final_heat_index_22_cube)"
   ]
  }
 ],
 "metadata": {
  "kernelspec": {
   "display_name": "testenv",
   "language": "python",
   "name": "python3"
  },
  "language_info": {
   "codemirror_mode": {
    "name": "ipython",
    "version": 3
   },
   "file_extension": ".py",
   "mimetype": "text/x-python",
   "name": "python",
   "nbconvert_exporter": "python",
   "pygments_lexer": "ipython3",
   "version": "3.12.2"
  }
 },
 "nbformat": 4,
 "nbformat_minor": 2
}
