{
 "cells": [
  {
   "cell_type": "markdown",
   "metadata": {},
   "source": [
    "## 2m Dewpoint temperature"
   ]
  },
  {
   "cell_type": "code",
   "execution_count": 1,
   "metadata": {},
   "outputs": [
    {
     "name": "stderr",
     "output_type": "stream",
     "text": [
      "2024-07-06 19:52:50,596 INFO Welcome to the CDS\n",
      "2024-07-06 19:52:50,596 INFO Sending request to https://cds.climate.copernicus.eu/api/v2/resources/reanalysis-era5-land\n",
      "2024-07-06 19:52:50,706 INFO Request is completed\n",
      "2024-07-06 19:52:50,706 INFO Downloading https://download-0015-clone.copernicus-climate.eu/cache-compute-0015/cache/data2/adaptor.mars.internal-1720289566.6475518-14979-15-78547ac6-cb4f-4d9a-96b6-b1617b19800e.nc to ERA5-Land_td_hourly_1950_1954.nc (40M)\n",
      "2024-07-06 19:53:03,977 INFO Download rate 3M/s     \n"
     ]
    },
    {
     "data": {
      "text/plain": [
       "Result(content_length=41994684,content_type=application/x-netcdf,location=https://download-0015-clone.copernicus-climate.eu/cache-compute-0015/cache/data2/adaptor.mars.internal-1720289566.6475518-14979-15-78547ac6-cb4f-4d9a-96b6-b1617b19800e.nc)"
      ]
     },
     "execution_count": 1,
     "metadata": {},
     "output_type": "execute_result"
    }
   ],
   "source": [
    "import cdsapi\n",
    "\n",
    "c = cdsapi.Client()\n",
    "\n",
    "c.retrieve(\n",
    "    'reanalysis-era5-land',\n",
    "    {\n",
    "        'variable': '2m_dewpoint_temperature',\n",
    "        'year': [\n",
    "            '1950', '1951', '1952', '1953', '1954',\n",
    "        ],\n",
    "        'month': [\n",
    "            '01', '02', '12',\n",
    "        ],\n",
    "        'day': [\n",
    "            '01', '02', '03',\n",
    "            '04', '05', '06',\n",
    "            '07', '08', '09',\n",
    "            '10', '11', '12',\n",
    "            '13', '14', '15',\n",
    "            '16', '17', '18',\n",
    "            '19', '20', '21',\n",
    "            '22', '23', '24',\n",
    "            '25', '26', '27',\n",
    "            '28', '29', '30',\n",
    "            '31',\n",
    "        ],\n",
    "        'time': [\n",
    "            '00:00', '01:00', '02:00',\n",
    "            '03:00', '04:00', '05:00',\n",
    "            '06:00', '07:00', '08:00',\n",
    "            '09:00', '10:00', '11:00',\n",
    "            '12:00', '13:00', '14:00',\n",
    "            '15:00', '16:00', '17:00',\n",
    "            '18:00', '19:00', '20:00',\n",
    "            '21:00', '22:00', '23:00',\n",
    "        ],\n",
    "        'area': [\n",
    "            -22.09, 26.39, -25.46,\n",
    "            32.06,\n",
    "        ],\n",
    "        'format': 'netcdf',\n",
    "    },\n",
    "    'ERA5-Land_td_hourly_1950_1954.nc')"
   ]
  },
  {
   "cell_type": "code",
   "execution_count": 2,
   "metadata": {},
   "outputs": [
    {
     "name": "stderr",
     "output_type": "stream",
     "text": [
      "2024-07-06 19:53:04,038 INFO Welcome to the CDS\n",
      "2024-07-06 19:53:04,039 INFO Sending request to https://cds.climate.copernicus.eu/api/v2/resources/reanalysis-era5-land\n",
      "2024-07-06 19:53:04,106 INFO Request is queued\n",
      "2024-07-06 19:53:36,717 INFO Request is running\n",
      "2024-07-06 20:01:48,847 WARNING Connection error: [('Connection aborted.', RemoteDisconnected('Remote end closed connection without response'))]. Attempt 1 of 500.\n",
      "2024-07-06 20:01:48,850 WARNING Retrying in 120 seconds\n",
      "2024-07-06 20:06:50,426 INFO Retrying now...\n",
      "2024-07-06 20:12:45,802 WARNING Connection error: [('Connection aborted.', RemoteDisconnected('Remote end closed connection without response'))]. Attempt 1 of 500.\n",
      "2024-07-06 20:12:45,803 WARNING Retrying in 120 seconds\n",
      "2024-07-06 20:14:45,811 INFO Retrying now...\n",
      "2024-07-06 20:18:46,377 INFO Request is completed\n",
      "2024-07-06 20:18:46,379 INFO Downloading https://download-0016.copernicus-climate.eu/cache-compute-0016/cache/data5/adaptor.mars.internal-1720293376.9636846-8595-4-41419273-7e05-4542-8526-e005efe02906.nc to ERA5-Land_td_hourly_1955_1959.nc (40.1M)\n",
      "2024-07-06 20:18:59,117 INFO Download rate 3.1M/s   \n"
     ]
    },
    {
     "data": {
      "text/plain": [
       "Result(content_length=41998560,content_type=application/x-netcdf,location=https://download-0016.copernicus-climate.eu/cache-compute-0016/cache/data5/adaptor.mars.internal-1720293376.9636846-8595-4-41419273-7e05-4542-8526-e005efe02906.nc)"
      ]
     },
     "execution_count": 2,
     "metadata": {},
     "output_type": "execute_result"
    }
   ],
   "source": [
    "import cdsapi\n",
    "\n",
    "c = cdsapi.Client()\n",
    "\n",
    "c.retrieve(\n",
    "    'reanalysis-era5-land',\n",
    "    {\n",
    "        'variable': '2m_dewpoint_temperature',\n",
    "        'year': [\n",
    "            '1955', '1956', '1957', '1958', '1959',\n",
    "        ],\n",
    "        'month': [\n",
    "            '01', '02', '12',\n",
    "        ],\n",
    "        'day': [\n",
    "            '01', '02', '03',\n",
    "            '04', '05', '06',\n",
    "            '07', '08', '09',\n",
    "            '10', '11', '12',\n",
    "            '13', '14', '15',\n",
    "            '16', '17', '18',\n",
    "            '19', '20', '21',\n",
    "            '22', '23', '24',\n",
    "            '25', '26', '27',\n",
    "            '28', '29', '30',\n",
    "            '31',\n",
    "        ],\n",
    "        'time': [\n",
    "            '00:00', '01:00', '02:00',\n",
    "            '03:00', '04:00', '05:00',\n",
    "            '06:00', '07:00', '08:00',\n",
    "            '09:00', '10:00', '11:00',\n",
    "            '12:00', '13:00', '14:00',\n",
    "            '15:00', '16:00', '17:00',\n",
    "            '18:00', '19:00', '20:00',\n",
    "            '21:00', '22:00', '23:00',\n",
    "        ],\n",
    "        'area': [\n",
    "            -22.09, 26.39, -25.46,\n",
    "            32.06,\n",
    "        ],\n",
    "        'format': 'netcdf',\n",
    "    },\n",
    "    'ERA5-Land_td_hourly_1955_1959.nc')"
   ]
  },
  {
   "cell_type": "code",
   "execution_count": 3,
   "metadata": {},
   "outputs": [
    {
     "name": "stderr",
     "output_type": "stream",
     "text": [
      "2024-07-06 20:18:59,191 INFO Welcome to the CDS\n",
      "2024-07-06 20:18:59,193 INFO Sending request to https://cds.climate.copernicus.eu/api/v2/resources/reanalysis-era5-land\n",
      "2024-07-06 20:18:59,277 INFO Request is queued\n",
      "2024-07-06 20:19:01,889 INFO Request is running\n",
      "2024-07-06 20:43:19,516 INFO Request is completed\n",
      "2024-07-06 20:43:19,520 INFO Downloading https://download-0017.copernicus-climate.eu/cache-compute-0017/cache/data6/adaptor.mars.internal-1720294848.1545382-3208-14-baba1868-a457-4b7a-b1a9-cda4f098425d.nc to ERA5-Land_td_hourly_1960_1964.nc (40.1M)\n",
      "2024-07-06 20:43:31,446 INFO Download rate 3.4M/s   \n"
     ]
    },
    {
     "data": {
      "text/plain": [
       "Result(content_length=42091680,content_type=application/x-netcdf,location=https://download-0017.copernicus-climate.eu/cache-compute-0017/cache/data6/adaptor.mars.internal-1720294848.1545382-3208-14-baba1868-a457-4b7a-b1a9-cda4f098425d.nc)"
      ]
     },
     "execution_count": 3,
     "metadata": {},
     "output_type": "execute_result"
    }
   ],
   "source": [
    "import cdsapi\n",
    "\n",
    "c = cdsapi.Client()\n",
    "\n",
    "c.retrieve(\n",
    "    'reanalysis-era5-land',\n",
    "    {\n",
    "        'variable': '2m_dewpoint_temperature',\n",
    "        'year': [\n",
    "            '1960', '1961', '1962', '1963', '1964',\n",
    "        ],\n",
    "        'month': [\n",
    "            '01', '02', '12',\n",
    "        ],\n",
    "        'day': [\n",
    "            '01', '02', '03',\n",
    "            '04', '05', '06',\n",
    "            '07', '08', '09',\n",
    "            '10', '11', '12',\n",
    "            '13', '14', '15',\n",
    "            '16', '17', '18',\n",
    "            '19', '20', '21',\n",
    "            '22', '23', '24',\n",
    "            '25', '26', '27',\n",
    "            '28', '29', '30',\n",
    "            '31',\n",
    "        ],\n",
    "        'time': [\n",
    "            '00:00', '01:00', '02:00',\n",
    "            '03:00', '04:00', '05:00',\n",
    "            '06:00', '07:00', '08:00',\n",
    "            '09:00', '10:00', '11:00',\n",
    "            '12:00', '13:00', '14:00',\n",
    "            '15:00', '16:00', '17:00',\n",
    "            '18:00', '19:00', '20:00',\n",
    "            '21:00', '22:00', '23:00',\n",
    "        ],\n",
    "        'area': [\n",
    "            -22.09, 26.39, -25.46,\n",
    "            32.06,\n",
    "        ],\n",
    "        'format': 'netcdf',\n",
    "    },\n",
    "    'ERA5-Land_td_hourly_1960_1964.nc')"
   ]
  },
  {
   "cell_type": "code",
   "execution_count": 4,
   "metadata": {},
   "outputs": [
    {
     "name": "stderr",
     "output_type": "stream",
     "text": [
      "2024-07-06 20:43:31,525 INFO Welcome to the CDS\n",
      "2024-07-06 20:43:31,525 INFO Sending request to https://cds.climate.copernicus.eu/api/v2/resources/reanalysis-era5-land\n",
      "2024-07-06 20:43:31,601 INFO Request is queued\n",
      "2024-07-06 20:43:36,533 INFO Request is running\n",
      "2024-07-06 21:08:46,436 WARNING Connection error: [('Connection aborted.', RemoteDisconnected('Remote end closed connection without response'))]. Attempt 1 of 500.\n",
      "2024-07-06 21:08:46,440 WARNING Retrying in 120 seconds\n",
      "2024-07-06 21:15:06,454 INFO Retrying now...\n",
      "2024-07-06 21:15:06,660 INFO Request is completed\n",
      "2024-07-06 21:15:06,662 INFO Downloading https://download-0015-clone.copernicus-climate.eu/cache-compute-0015/cache/data9/adaptor.mars.internal-1720296331.730244-23450-20-4b3aa3c5-c2f2-418b-9338-9b9eab9616d4.nc to ERA5-Land_td_hourly_1965_1969.nc (40.1M)\n",
      "2024-07-06 21:15:17,986 INFO Download rate 3.5M/s   \n"
     ]
    },
    {
     "data": {
      "text/plain": [
       "Result(content_length=41998560,content_type=application/x-netcdf,location=https://download-0015-clone.copernicus-climate.eu/cache-compute-0015/cache/data9/adaptor.mars.internal-1720296331.730244-23450-20-4b3aa3c5-c2f2-418b-9338-9b9eab9616d4.nc)"
      ]
     },
     "execution_count": 4,
     "metadata": {},
     "output_type": "execute_result"
    }
   ],
   "source": [
    "import cdsapi\n",
    "\n",
    "c = cdsapi.Client()\n",
    "\n",
    "c.retrieve(\n",
    "    'reanalysis-era5-land',\n",
    "    {\n",
    "        'variable': '2m_dewpoint_temperature',\n",
    "        'year': [\n",
    "            '1965', '1966', '1967', '1968', '1969',\n",
    "        ],\n",
    "        'month': [\n",
    "            '01', '02', '12',\n",
    "        ],\n",
    "        'day': [\n",
    "            '01', '02', '03',\n",
    "            '04', '05', '06',\n",
    "            '07', '08', '09',\n",
    "            '10', '11', '12',\n",
    "            '13', '14', '15',\n",
    "            '16', '17', '18',\n",
    "            '19', '20', '21',\n",
    "            '22', '23', '24',\n",
    "            '25', '26', '27',\n",
    "            '28', '29', '30',\n",
    "            '31',\n",
    "        ],\n",
    "        'time': [\n",
    "            '00:00', '01:00', '02:00',\n",
    "            '03:00', '04:00', '05:00',\n",
    "            '06:00', '07:00', '08:00',\n",
    "            '09:00', '10:00', '11:00',\n",
    "            '12:00', '13:00', '14:00',\n",
    "            '15:00', '16:00', '17:00',\n",
    "            '18:00', '19:00', '20:00',\n",
    "            '21:00', '22:00', '23:00',\n",
    "        ],\n",
    "        'area': [\n",
    "            -22.09, 26.39, -25.46,\n",
    "            32.06,\n",
    "        ],\n",
    "        'format': 'netcdf',\n",
    "    },\n",
    "    'ERA5-Land_td_hourly_1965_1969.nc')"
   ]
  },
  {
   "cell_type": "code",
   "execution_count": 5,
   "metadata": {},
   "outputs": [
    {
     "name": "stderr",
     "output_type": "stream",
     "text": [
      "2024-07-06 21:15:25,812 INFO Welcome to the CDS\n",
      "2024-07-06 21:15:25,814 INFO Sending request to https://cds.climate.copernicus.eu/api/v2/resources/reanalysis-era5-land\n",
      "2024-07-06 21:15:25,908 INFO Request is queued\n",
      "2024-07-06 21:15:30,821 INFO Request is running\n",
      "2024-07-06 21:20:05,807 WARNING Connection error: [('Connection aborted.', RemoteDisconnected('Remote end closed connection without response'))]. Attempt 1 of 500.\n",
      "2024-07-06 21:20:05,808 WARNING Retrying in 120 seconds\n",
      "2024-07-06 21:28:07,636 INFO Retrying now...\n",
      "2024-07-06 21:33:47,876 WARNING Connection error: [('Connection aborted.', RemoteDisconnected('Remote end closed connection without response'))]. Attempt 1 of 500.\n",
      "2024-07-06 21:33:47,878 WARNING Retrying in 120 seconds\n",
      "2024-07-06 21:45:17,348 INFO Retrying now...\n",
      "2024-07-06 21:53:38,296 WARNING Connection error: [('Connection aborted.', RemoteDisconnected('Remote end closed connection without response'))]. Attempt 1 of 500.\n",
      "2024-07-06 21:53:38,297 WARNING Retrying in 120 seconds\n",
      "2024-07-06 22:00:30,017 INFO Retrying now...\n",
      "2024-07-06 22:00:30,204 INFO Request is completed\n",
      "2024-07-06 22:00:30,206 INFO Downloading https://download-0008-clone.copernicus-climate.eu/cache-compute-0008/cache/data2/adaptor.mars.internal-1720298781.1741817-13671-9-ac00ea79-a068-4573-a712-196820a86f0b.nc to ERA5-Land_td_hourly_1970_1974.nc (40.1M)\n",
      "2024-07-06 22:00:39,283 INFO Download rate 4.4M/s   \n"
     ]
    },
    {
     "data": {
      "text/plain": [
       "Result(content_length=41998560,content_type=application/x-netcdf,location=https://download-0008-clone.copernicus-climate.eu/cache-compute-0008/cache/data2/adaptor.mars.internal-1720298781.1741817-13671-9-ac00ea79-a068-4573-a712-196820a86f0b.nc)"
      ]
     },
     "execution_count": 5,
     "metadata": {},
     "output_type": "execute_result"
    }
   ],
   "source": [
    "import cdsapi\n",
    "\n",
    "c = cdsapi.Client()\n",
    "\n",
    "c.retrieve(\n",
    "    'reanalysis-era5-land',\n",
    "    {\n",
    "        'variable': '2m_dewpoint_temperature',\n",
    "        'year': [\n",
    "            '1970', '1971', '1972', '1973', '1974',\n",
    "        ],\n",
    "        'month': [\n",
    "            '01', '02', '12',\n",
    "        ],\n",
    "        'day': [\n",
    "            '01', '02', '03',\n",
    "            '04', '05', '06',\n",
    "            '07', '08', '09',\n",
    "            '10', '11', '12',\n",
    "            '13', '14', '15',\n",
    "            '16', '17', '18',\n",
    "            '19', '20', '21',\n",
    "            '22', '23', '24',\n",
    "            '25', '26', '27',\n",
    "            '28', '29', '30',\n",
    "            '31',\n",
    "        ],\n",
    "        'time': [\n",
    "            '00:00', '01:00', '02:00',\n",
    "            '03:00', '04:00', '05:00',\n",
    "            '06:00', '07:00', '08:00',\n",
    "            '09:00', '10:00', '11:00',\n",
    "            '12:00', '13:00', '14:00',\n",
    "            '15:00', '16:00', '17:00',\n",
    "            '18:00', '19:00', '20:00',\n",
    "            '21:00', '22:00', '23:00',\n",
    "        ],\n",
    "        'area': [\n",
    "            -22.09, 26.39, -25.46,\n",
    "            32.06,\n",
    "        ],\n",
    "        'format': 'netcdf',\n",
    "    },\n",
    "    'ERA5-Land_td_hourly_1970_1974.nc')"
   ]
  },
  {
   "cell_type": "code",
   "execution_count": 6,
   "metadata": {},
   "outputs": [
    {
     "name": "stderr",
     "output_type": "stream",
     "text": [
      "2024-07-06 22:00:39,345 INFO Welcome to the CDS\n",
      "2024-07-06 22:00:39,348 INFO Sending request to https://cds.climate.copernicus.eu/api/v2/resources/reanalysis-era5-land\n",
      "2024-07-06 22:00:39,461 INFO Request is queued\n",
      "2024-07-06 22:00:40,532 INFO Request is running\n",
      "2024-07-06 22:02:49,182 WARNING Connection error: [('Connection aborted.', RemoteDisconnected('Remote end closed connection without response'))]. Attempt 1 of 500.\n",
      "2024-07-06 22:02:49,184 WARNING Retrying in 120 seconds\n",
      "2024-07-06 22:08:50,484 INFO Retrying now...\n",
      "2024-07-06 22:10:17,959 WARNING Connection error: [('Connection aborted.', RemoteDisconnected('Remote end closed connection without response'))]. Attempt 1 of 500.\n",
      "2024-07-06 22:10:17,960 WARNING Retrying in 120 seconds\n",
      "2024-07-06 22:18:57,635 INFO Retrying now...\n",
      "2024-07-06 22:24:17,505 WARNING Connection error: [('Connection aborted.', RemoteDisconnected('Remote end closed connection without response'))]. Attempt 1 of 500.\n",
      "2024-07-06 22:24:17,507 WARNING Retrying in 120 seconds\n",
      "2024-07-06 22:32:48,710 INFO Retrying now...\n",
      "2024-07-06 22:32:48,941 INFO Request is completed\n",
      "2024-07-06 22:32:48,943 INFO Downloading https://download-0001-clone.copernicus-climate.eu/cache-compute-0001/cache/data7/adaptor.mars.internal-1720301118.7558053-23479-4-d42b51bc-45ef-4659-b29d-07dd0cba6a22.nc to ERA5-Land_td_hourly_1975_1979.nc (40.1M)\n",
      "2024-07-06 22:38:15,123 ERROR Download interupted: HTTPSConnectionPool(host='download-0001-clone.copernicus-climate.eu', port=443): Read timed out.\n",
      "2024-07-06 22:38:15,125 ERROR Download incomplete, downloaded 30661632 byte(s) out of 41998560\n",
      "2024-07-06 22:38:15,125 WARNING Sleeping 10 seconds\n",
      "2024-07-06 22:38:25,137 WARNING Resuming download at byte 30661632\n",
      "2024-07-06 22:38:27,891 INFO Download rate 121K/s  \n"
     ]
    },
    {
     "data": {
      "text/plain": [
       "Result(content_length=41998560,content_type=application/x-netcdf,location=https://download-0001-clone.copernicus-climate.eu/cache-compute-0001/cache/data7/adaptor.mars.internal-1720301118.7558053-23479-4-d42b51bc-45ef-4659-b29d-07dd0cba6a22.nc)"
      ]
     },
     "execution_count": 6,
     "metadata": {},
     "output_type": "execute_result"
    }
   ],
   "source": [
    "import cdsapi\n",
    "\n",
    "c = cdsapi.Client()\n",
    "\n",
    "c.retrieve(\n",
    "    'reanalysis-era5-land',\n",
    "    {\n",
    "        'variable': '2m_dewpoint_temperature',\n",
    "        'year': [\n",
    "            '1975', '1976', '1977', '1978', '1979',\n",
    "        ],\n",
    "        'month': [\n",
    "            '01', '02', '12',\n",
    "        ],\n",
    "        'day': [\n",
    "            '01', '02', '03',\n",
    "            '04', '05', '06',\n",
    "            '07', '08', '09',\n",
    "            '10', '11', '12',\n",
    "            '13', '14', '15',\n",
    "            '16', '17', '18',\n",
    "            '19', '20', '21',\n",
    "            '22', '23', '24',\n",
    "            '25', '26', '27',\n",
    "            '28', '29', '30',\n",
    "            '31',\n",
    "        ],\n",
    "        'time': [\n",
    "            '00:00', '01:00', '02:00',\n",
    "            '03:00', '04:00', '05:00',\n",
    "            '06:00', '07:00', '08:00',\n",
    "            '09:00', '10:00', '11:00',\n",
    "            '12:00', '13:00', '14:00',\n",
    "            '15:00', '16:00', '17:00',\n",
    "            '18:00', '19:00', '20:00',\n",
    "            '21:00', '22:00', '23:00',\n",
    "        ],\n",
    "        'area': [\n",
    "            -22.09, 26.39, -25.46,\n",
    "            32.06,\n",
    "        ],\n",
    "        'format': 'netcdf',\n",
    "    },\n",
    "    'ERA5-Land_td_hourly_1975_1979.nc')"
   ]
  },
  {
   "cell_type": "code",
   "execution_count": 7,
   "metadata": {},
   "outputs": [
    {
     "name": "stderr",
     "output_type": "stream",
     "text": [
      "2024-07-06 22:38:27,922 INFO Sending request to https://cds.climate.copernicus.eu/api/v2/resources/reanalysis-era5-land\n",
      "2024-07-06 22:38:28,109 INFO Request is queued\n",
      "2024-07-06 22:38:29,156 INFO Request is running\n",
      "2024-07-06 22:41:01,226 WARNING Connection error: [('Connection aborted.', RemoteDisconnected('Remote end closed connection without response'))]. Attempt 1 of 500.\n",
      "2024-07-06 22:41:01,227 WARNING Retrying in 120 seconds\n",
      "2024-07-06 22:45:49,208 INFO Retrying now...\n",
      "2024-07-06 22:48:06,955 WARNING Connection error: [('Connection aborted.', RemoteDisconnected('Remote end closed connection without response'))]. Attempt 1 of 500.\n",
      "2024-07-06 22:48:06,957 WARNING Retrying in 120 seconds\n",
      "2024-07-06 22:52:26,272 INFO Retrying now...\n",
      "2024-07-06 22:54:53,015 WARNING Connection error: [('Connection aborted.', RemoteDisconnected('Remote end closed connection without response'))]. Attempt 1 of 500.\n",
      "2024-07-06 22:54:53,017 WARNING Retrying in 120 seconds\n",
      "2024-07-06 23:03:25,988 INFO Retrying now...\n",
      "2024-07-06 23:06:12,234 WARNING Connection error: [('Connection aborted.', RemoteDisconnected('Remote end closed connection without response'))]. Attempt 1 of 500.\n",
      "2024-07-06 23:06:12,235 WARNING Retrying in 120 seconds\n",
      "2024-07-06 23:12:27,851 INFO Retrying now...\n",
      "2024-07-06 23:12:28,189 INFO Request is completed\n",
      "2024-07-06 23:12:28,190 INFO Downloading https://download-0004-clone.copernicus-climate.eu/cache-compute-0004/cache/data4/adaptor.mars.internal-1720303822.2185104-10222-7-eba16596-da78-4cfc-bd4d-ab35a93a07b8.nc to ERA5-Land_td_hourly_1980_1984.nc (40.1M)\n",
      "2024-07-06 23:12:45,746 INFO Download rate 2.3M/s   \n"
     ]
    },
    {
     "data": {
      "text/plain": [
       "Result(content_length=42091680,content_type=application/x-netcdf,location=https://download-0004-clone.copernicus-climate.eu/cache-compute-0004/cache/data4/adaptor.mars.internal-1720303822.2185104-10222-7-eba16596-da78-4cfc-bd4d-ab35a93a07b8.nc)"
      ]
     },
     "execution_count": 7,
     "metadata": {},
     "output_type": "execute_result"
    }
   ],
   "source": [
    "import cdsapi\n",
    "\n",
    "c = cdsapi.Client()\n",
    "\n",
    "c.retrieve(\n",
    "    'reanalysis-era5-land',\n",
    "    {\n",
    "        'variable': '2m_dewpoint_temperature',\n",
    "        'year': [\n",
    "            '1980', '1981', '1982', '1983', '1984',\n",
    "        ],\n",
    "        'month': [\n",
    "            '01', '02', '12',\n",
    "        ],\n",
    "        'day': [\n",
    "            '01', '02', '03',\n",
    "            '04', '05', '06',\n",
    "            '07', '08', '09',\n",
    "            '10', '11', '12',\n",
    "            '13', '14', '15',\n",
    "            '16', '17', '18',\n",
    "            '19', '20', '21',\n",
    "            '22', '23', '24',\n",
    "            '25', '26', '27',\n",
    "            '28', '29', '30',\n",
    "            '31',\n",
    "        ],\n",
    "        'time': [\n",
    "            '00:00', '01:00', '02:00',\n",
    "            '03:00', '04:00', '05:00',\n",
    "            '06:00', '07:00', '08:00',\n",
    "            '09:00', '10:00', '11:00',\n",
    "            '12:00', '13:00', '14:00',\n",
    "            '15:00', '16:00', '17:00',\n",
    "            '18:00', '19:00', '20:00',\n",
    "            '21:00', '22:00', '23:00',\n",
    "        ],\n",
    "        'area': [\n",
    "            -22.09, 26.39, -25.46,\n",
    "            32.06,\n",
    "        ],\n",
    "        'format': 'netcdf',\n",
    "    },\n",
    "    'ERA5-Land_td_hourly_1980_1984.nc')"
   ]
  },
  {
   "cell_type": "code",
   "execution_count": 8,
   "metadata": {},
   "outputs": [
    {
     "name": "stderr",
     "output_type": "stream",
     "text": [
      "2024-07-06 23:12:45,812 INFO Welcome to the CDS\n",
      "2024-07-06 23:12:45,812 INFO Sending request to https://cds.climate.copernicus.eu/api/v2/resources/reanalysis-era5-land\n",
      "2024-07-06 23:12:45,884 INFO Request is queued\n",
      "2024-07-06 23:12:46,960 INFO Request is running\n",
      "2024-07-06 23:15:10,913 WARNING Connection error: [('Connection aborted.', RemoteDisconnected('Remote end closed connection without response'))]. Attempt 1 of 500.\n",
      "2024-07-06 23:15:10,913 WARNING Retrying in 120 seconds\n",
      "2024-07-06 23:24:31,162 INFO Retrying now...\n",
      "2024-07-06 23:27:26,350 WARNING Connection error: [('Connection aborted.', RemoteDisconnected('Remote end closed connection without response'))]. Attempt 1 of 500.\n",
      "2024-07-06 23:27:26,352 WARNING Retrying in 120 seconds\n",
      "2024-07-06 23:37:41,075 INFO Retrying now...\n",
      "2024-07-06 23:40:52,331 WARNING Connection error: [('Connection aborted.', RemoteDisconnected('Remote end closed connection without response'))]. Attempt 1 of 500.\n",
      "2024-07-06 23:40:52,333 WARNING Retrying in 120 seconds\n",
      "2024-07-06 23:47:02,276 INFO Retrying now...\n",
      "2024-07-06 23:47:09,543 INFO Request is completed\n",
      "2024-07-06 23:47:09,545 INFO Downloading https://download-0013-clone.copernicus-climate.eu/cache-compute-0013/cache/data3/adaptor.mars.internal-1720305670.2306004-25240-9-9d329342-6195-4567-ae49-2e08c4069d74.nc to ERA5-Land_td_hourly_1985_1989.nc (40.1M)\n",
      "2024-07-06 23:47:19,953 INFO Download rate 3.8M/s   \n"
     ]
    },
    {
     "data": {
      "text/plain": [
       "Result(content_length=41998560,content_type=application/x-netcdf,location=https://download-0013-clone.copernicus-climate.eu/cache-compute-0013/cache/data3/adaptor.mars.internal-1720305670.2306004-25240-9-9d329342-6195-4567-ae49-2e08c4069d74.nc)"
      ]
     },
     "execution_count": 8,
     "metadata": {},
     "output_type": "execute_result"
    }
   ],
   "source": [
    "import cdsapi\n",
    "\n",
    "c = cdsapi.Client()\n",
    "\n",
    "c.retrieve(\n",
    "    'reanalysis-era5-land',\n",
    "    {\n",
    "        'variable': '2m_dewpoint_temperature',\n",
    "        'year': [\n",
    "            '1985', '1986', '1987', '1988', '1989',\n",
    "        ],\n",
    "        'month': [\n",
    "            '01', '02', '12',\n",
    "        ],\n",
    "        'day': [\n",
    "            '01', '02', '03',\n",
    "            '04', '05', '06',\n",
    "            '07', '08', '09',\n",
    "            '10', '11', '12',\n",
    "            '13', '14', '15',\n",
    "            '16', '17', '18',\n",
    "            '19', '20', '21',\n",
    "            '22', '23', '24',\n",
    "            '25', '26', '27',\n",
    "            '28', '29', '30',\n",
    "            '31',\n",
    "        ],\n",
    "        'time': [\n",
    "            '00:00', '01:00', '02:00',\n",
    "            '03:00', '04:00', '05:00',\n",
    "            '06:00', '07:00', '08:00',\n",
    "            '09:00', '10:00', '11:00',\n",
    "            '12:00', '13:00', '14:00',\n",
    "            '15:00', '16:00', '17:00',\n",
    "            '18:00', '19:00', '20:00',\n",
    "            '21:00', '22:00', '23:00',\n",
    "        ],\n",
    "        'area': [\n",
    "            -22.09, 26.39, -25.46,\n",
    "            32.06,\n",
    "        ],\n",
    "        'format': 'netcdf',\n",
    "    },\n",
    "    'ERA5-Land_td_hourly_1985_1989.nc')"
   ]
  },
  {
   "cell_type": "code",
   "execution_count": 9,
   "metadata": {},
   "outputs": [
    {
     "name": "stderr",
     "output_type": "stream",
     "text": [
      "2024-07-06 23:47:20,005 INFO Welcome to the CDS\n",
      "2024-07-06 23:47:20,005 INFO Sending request to https://cds.climate.copernicus.eu/api/v2/resources/reanalysis-era5-land\n",
      "2024-07-06 23:47:20,110 INFO Request is queued\n",
      "2024-07-06 23:47:22,855 INFO Request is running\n",
      "2024-07-06 23:49:56,138 WARNING Connection error: [('Connection aborted.', RemoteDisconnected('Remote end closed connection without response'))]. Attempt 1 of 500.\n",
      "2024-07-06 23:49:56,139 WARNING Retrying in 120 seconds\n",
      "2024-07-06 23:56:35,391 INFO Retrying now...\n",
      "2024-07-07 00:00:50,860 WARNING Connection error: [('Connection aborted.', RemoteDisconnected('Remote end closed connection without response'))]. Attempt 1 of 500.\n",
      "2024-07-07 00:00:50,862 WARNING Retrying in 120 seconds\n",
      "2024-07-07 00:07:04,512 INFO Retrying now...\n",
      "2024-07-07 00:14:57,737 WARNING Connection error: [('Connection aborted.', RemoteDisconnected('Remote end closed connection without response'))]. Attempt 1 of 500.\n",
      "2024-07-07 00:14:57,741 WARNING Retrying in 120 seconds\n",
      "2024-07-07 00:21:38,398 INFO Retrying now...\n",
      "2024-07-07 00:21:38,586 INFO Request is completed\n",
      "2024-07-07 00:21:38,587 INFO Downloading https://download-0009-clone.copernicus-climate.eu/cache-compute-0009/cache/data5/adaptor.mars.internal-1720307672.3476393-26930-15-c92462ed-afd5-4ed3-b5c3-29c7ee9d757a.nc to ERA5-Land_td_hourly_1990_1994.nc (40.1M)\n",
      "2024-07-07 00:21:45,222 INFO Download rate 6M/s     \n"
     ]
    },
    {
     "data": {
      "text/plain": [
       "Result(content_length=41998560,content_type=application/x-netcdf,location=https://download-0009-clone.copernicus-climate.eu/cache-compute-0009/cache/data5/adaptor.mars.internal-1720307672.3476393-26930-15-c92462ed-afd5-4ed3-b5c3-29c7ee9d757a.nc)"
      ]
     },
     "execution_count": 9,
     "metadata": {},
     "output_type": "execute_result"
    }
   ],
   "source": [
    "import cdsapi\n",
    "\n",
    "c = cdsapi.Client()\n",
    "\n",
    "c.retrieve(\n",
    "    'reanalysis-era5-land',\n",
    "    {\n",
    "        'variable': '2m_dewpoint_temperature',\n",
    "        'year': [\n",
    "            '1990', '1991', '1992', '1993', '1994',\n",
    "        ],\n",
    "        'month': [\n",
    "            '01', '02', '12',\n",
    "        ],\n",
    "        'day': [\n",
    "            '01', '02', '03',\n",
    "            '04', '05', '06',\n",
    "            '07', '08', '09',\n",
    "            '10', '11', '12',\n",
    "            '13', '14', '15',\n",
    "            '16', '17', '18',\n",
    "            '19', '20', '21',\n",
    "            '22', '23', '24',\n",
    "            '25', '26', '27',\n",
    "            '28', '29', '30',\n",
    "            '31',\n",
    "        ],\n",
    "        'time': [\n",
    "            '00:00', '01:00', '02:00',\n",
    "            '03:00', '04:00', '05:00',\n",
    "            '06:00', '07:00', '08:00',\n",
    "            '09:00', '10:00', '11:00',\n",
    "            '12:00', '13:00', '14:00',\n",
    "            '15:00', '16:00', '17:00',\n",
    "            '18:00', '19:00', '20:00',\n",
    "            '21:00', '22:00', '23:00',\n",
    "        ],\n",
    "        'area': [\n",
    "            -22.09, 26.39, -25.46,\n",
    "            32.06,\n",
    "        ],\n",
    "        'format': 'netcdf',\n",
    "    },\n",
    "    'ERA5-Land_td_hourly_1990_1994.nc')"
   ]
  },
  {
   "cell_type": "code",
   "execution_count": 10,
   "metadata": {},
   "outputs": [
    {
     "name": "stderr",
     "output_type": "stream",
     "text": [
      "2024-07-07 00:21:45,300 INFO Welcome to the CDS\n",
      "2024-07-07 00:21:45,305 INFO Sending request to https://cds.climate.copernicus.eu/api/v2/resources/reanalysis-era5-land\n",
      "2024-07-07 00:21:45,364 INFO Request is queued\n",
      "2024-07-07 00:21:46,438 INFO Request is running\n",
      "2024-07-07 00:26:42,636 WARNING Connection error: [('Connection aborted.', RemoteDisconnected('Remote end closed connection without response'))]. Attempt 1 of 500.\n",
      "2024-07-07 00:26:42,638 WARNING Retrying in 120 seconds\n",
      "2024-07-07 00:28:42,649 INFO Retrying now...\n",
      "2024-07-07 00:47:09,865 INFO Request is completed\n",
      "2024-07-07 00:47:09,867 INFO Downloading https://download-0009-clone.copernicus-climate.eu/cache-compute-0009/cache/data6/adaptor.mars.internal-1720309563.9259028-5252-12-66345c9e-f894-457a-8142-0a3d7cd49f42.nc to ERA5-Land_td_hourly_1995_1999.nc (40.1M)\n",
      "2024-07-07 00:47:09,876 WARNING Connection error: [('Connection aborted.', RemoteDisconnected('Remote end closed connection without response'))]. Attempt 1 of 500.\n",
      "2024-07-07 00:47:09,877 WARNING Retrying in 120 seconds\n",
      "2024-07-07 00:49:09,888 INFO Retrying now...\n",
      "2024-07-07 00:49:16,180 INFO Download rate 324.7K/s \n"
     ]
    },
    {
     "data": {
      "text/plain": [
       "Result(content_length=41998560,content_type=application/x-netcdf,location=https://download-0009-clone.copernicus-climate.eu/cache-compute-0009/cache/data6/adaptor.mars.internal-1720309563.9259028-5252-12-66345c9e-f894-457a-8142-0a3d7cd49f42.nc)"
      ]
     },
     "execution_count": 10,
     "metadata": {},
     "output_type": "execute_result"
    }
   ],
   "source": [
    "import cdsapi\n",
    "\n",
    "c = cdsapi.Client()\n",
    "\n",
    "c.retrieve(\n",
    "    'reanalysis-era5-land',\n",
    "    {\n",
    "        'variable': '2m_dewpoint_temperature',\n",
    "        'year': [\n",
    "            '1995', '1996', '1997', '1998', '1999',\n",
    "        ],\n",
    "        'month': [\n",
    "            '01', '02', '12',\n",
    "        ],\n",
    "        'day': [\n",
    "            '01', '02', '03',\n",
    "            '04', '05', '06',\n",
    "            '07', '08', '09',\n",
    "            '10', '11', '12',\n",
    "            '13', '14', '15',\n",
    "            '16', '17', '18',\n",
    "            '19', '20', '21',\n",
    "            '22', '23', '24',\n",
    "            '25', '26', '27',\n",
    "            '28', '29', '30',\n",
    "            '31',\n",
    "        ],\n",
    "        'time': [\n",
    "            '00:00', '01:00', '02:00',\n",
    "            '03:00', '04:00', '05:00',\n",
    "            '06:00', '07:00', '08:00',\n",
    "            '09:00', '10:00', '11:00',\n",
    "            '12:00', '13:00', '14:00',\n",
    "            '15:00', '16:00', '17:00',\n",
    "            '18:00', '19:00', '20:00',\n",
    "            '21:00', '22:00', '23:00',\n",
    "        ],\n",
    "        'area': [\n",
    "            -22.09, 26.39, -25.46,\n",
    "            32.06,\n",
    "        ],\n",
    "        'format': 'netcdf',\n",
    "    },\n",
    "    'ERA5-Land_td_hourly_1995_1999.nc')"
   ]
  },
  {
   "cell_type": "code",
   "execution_count": 11,
   "metadata": {},
   "outputs": [
    {
     "name": "stderr",
     "output_type": "stream",
     "text": [
      "2024-07-07 00:49:16,365 INFO Welcome to the CDS\n",
      "2024-07-07 00:49:16,366 INFO Sending request to https://cds.climate.copernicus.eu/api/v2/resources/reanalysis-era5-land\n",
      "2024-07-07 00:49:16,524 INFO Request is queued\n",
      "2024-07-07 00:49:17,591 INFO Request is running\n",
      "2024-07-07 01:19:37,407 INFO Request is completed\n",
      "2024-07-07 01:19:37,411 INFO Downloading https://download-0019.copernicus-climate.eu/cache-compute-0019/cache/data0/adaptor.mars.internal-1720311504.4621542-15492-13-198b63c4-a94e-4087-89ff-4bf4df27cd5d.nc to ERA5-Land_td_hourly_2000_2004.nc (40.1M)\n",
      "2024-07-07 01:19:42,408 INFO Download rate 8M/s     \n"
     ]
    },
    {
     "data": {
      "text/plain": [
       "Result(content_length=42091680,content_type=application/x-netcdf,location=https://download-0019.copernicus-climate.eu/cache-compute-0019/cache/data0/adaptor.mars.internal-1720311504.4621542-15492-13-198b63c4-a94e-4087-89ff-4bf4df27cd5d.nc)"
      ]
     },
     "execution_count": 11,
     "metadata": {},
     "output_type": "execute_result"
    }
   ],
   "source": [
    "import cdsapi\n",
    "\n",
    "c = cdsapi.Client()\n",
    "\n",
    "c.retrieve(\n",
    "    'reanalysis-era5-land',\n",
    "    {\n",
    "        'variable': '2m_dewpoint_temperature',\n",
    "        'year': [\n",
    "            '2000', '2001', '2002', '2003', '2004',\n",
    "        ],\n",
    "        'month': [\n",
    "            '01', '02', '12',\n",
    "        ],\n",
    "        'day': [\n",
    "            '01', '02', '03',\n",
    "            '04', '05', '06',\n",
    "            '07', '08', '09',\n",
    "            '10', '11', '12',\n",
    "            '13', '14', '15',\n",
    "            '16', '17', '18',\n",
    "            '19', '20', '21',\n",
    "            '22', '23', '24',\n",
    "            '25', '26', '27',\n",
    "            '28', '29', '30',\n",
    "            '31',\n",
    "        ],\n",
    "        'time': [\n",
    "            '00:00', '01:00', '02:00',\n",
    "            '03:00', '04:00', '05:00',\n",
    "            '06:00', '07:00', '08:00',\n",
    "            '09:00', '10:00', '11:00',\n",
    "            '12:00', '13:00', '14:00',\n",
    "            '15:00', '16:00', '17:00',\n",
    "            '18:00', '19:00', '20:00',\n",
    "            '21:00', '22:00', '23:00',\n",
    "        ],\n",
    "        'area': [\n",
    "            -22.09, 26.39, -25.46,\n",
    "            32.06,\n",
    "        ],\n",
    "        'format': 'netcdf',\n",
    "    },\n",
    "    'ERA5-Land_td_hourly_2000_2004.nc')"
   ]
  },
  {
   "cell_type": "code",
   "execution_count": 12,
   "metadata": {},
   "outputs": [
    {
     "name": "stderr",
     "output_type": "stream",
     "text": [
      "2024-07-07 01:19:42,476 INFO Welcome to the CDS\n",
      "2024-07-07 01:19:42,479 INFO Sending request to https://cds.climate.copernicus.eu/api/v2/resources/reanalysis-era5-land\n",
      "2024-07-07 01:19:42,553 INFO Request is queued\n",
      "2024-07-07 01:19:45,243 INFO Request is running\n",
      "2024-07-07 01:50:03,386 INFO Request is completed\n",
      "2024-07-07 01:50:03,394 INFO Downloading https://download-0019.copernicus-climate.eu/cache-compute-0019/cache/data5/adaptor.mars.internal-1720313289.671771-29007-1-16f9f0e7-5b51-4ab7-bd77-3db4d40e2cb3.nc to ERA5-Land_td_hourly_2005_2009.nc (40.1M)\n",
      "2024-07-07 01:50:08,592 INFO Download rate 7.7M/s   \n"
     ]
    },
    {
     "data": {
      "text/plain": [
       "Result(content_length=41998560,content_type=application/x-netcdf,location=https://download-0019.copernicus-climate.eu/cache-compute-0019/cache/data5/adaptor.mars.internal-1720313289.671771-29007-1-16f9f0e7-5b51-4ab7-bd77-3db4d40e2cb3.nc)"
      ]
     },
     "execution_count": 12,
     "metadata": {},
     "output_type": "execute_result"
    }
   ],
   "source": [
    "import cdsapi\n",
    "\n",
    "c = cdsapi.Client()\n",
    "\n",
    "c.retrieve(\n",
    "    'reanalysis-era5-land',\n",
    "    {\n",
    "        'variable': '2m_dewpoint_temperature',\n",
    "        'year': [\n",
    "            '2005', '2006', '2007', '2008', '2009',\n",
    "        ],\n",
    "        'month': [\n",
    "            '01', '02', '12',\n",
    "        ],\n",
    "        'day': [\n",
    "            '01', '02', '03',\n",
    "            '04', '05', '06',\n",
    "            '07', '08', '09',\n",
    "            '10', '11', '12',\n",
    "            '13', '14', '15',\n",
    "            '16', '17', '18',\n",
    "            '19', '20', '21',\n",
    "            '22', '23', '24',\n",
    "            '25', '26', '27',\n",
    "            '28', '29', '30',\n",
    "            '31',\n",
    "        ],\n",
    "        'time': [\n",
    "            '00:00', '01:00', '02:00',\n",
    "            '03:00', '04:00', '05:00',\n",
    "            '06:00', '07:00', '08:00',\n",
    "            '09:00', '10:00', '11:00',\n",
    "            '12:00', '13:00', '14:00',\n",
    "            '15:00', '16:00', '17:00',\n",
    "            '18:00', '19:00', '20:00',\n",
    "            '21:00', '22:00', '23:00',\n",
    "        ],\n",
    "        'area': [\n",
    "            -22.09, 26.39, -25.46,\n",
    "            32.06,\n",
    "        ],\n",
    "        'format': 'netcdf',\n",
    "    },\n",
    "    'ERA5-Land_td_hourly_2005_2009.nc')"
   ]
  },
  {
   "cell_type": "code",
   "execution_count": 13,
   "metadata": {},
   "outputs": [
    {
     "name": "stderr",
     "output_type": "stream",
     "text": [
      "2024-07-07 01:50:08,656 INFO Welcome to the CDS\n",
      "2024-07-07 01:50:08,656 INFO Sending request to https://cds.climate.copernicus.eu/api/v2/resources/reanalysis-era5-land\n",
      "2024-07-07 01:50:08,770 INFO Request is queued\n",
      "2024-07-07 01:50:09,829 INFO Request is running\n",
      "2024-07-07 02:08:28,082 WARNING Connection error: [('Connection aborted.', RemoteDisconnected('Remote end closed connection without response'))]. Attempt 1 of 500.\n",
      "2024-07-07 02:08:28,085 WARNING Retrying in 120 seconds\n",
      "2024-07-07 02:16:31,187 INFO Retrying now...\n",
      "2024-07-07 02:20:32,478 WARNING Connection error: [('Connection aborted.', RemoteDisconnected('Remote end closed connection without response'))]. Attempt 1 of 500.\n",
      "2024-07-07 02:20:32,479 WARNING Retrying in 120 seconds\n",
      "2024-07-07 02:22:32,486 INFO Retrying now...\n",
      "2024-07-07 02:22:32,674 INFO Request is completed\n",
      "2024-07-07 02:22:32,676 INFO Downloading https://download-0014-clone.copernicus-climate.eu/cache-compute-0014/cache/data4/adaptor.mars.internal-1720315176.464032-7095-7-dd3bf367-de59-4657-93b2-bf057617e376.nc to ERA5-Land_td_hourly_2010_2014.nc (40.1M)\n",
      "2024-07-07 02:22:37,712 INFO Download rate 8M/s     \n"
     ]
    },
    {
     "data": {
      "text/plain": [
       "Result(content_length=41998556,content_type=application/x-netcdf,location=https://download-0014-clone.copernicus-climate.eu/cache-compute-0014/cache/data4/adaptor.mars.internal-1720315176.464032-7095-7-dd3bf367-de59-4657-93b2-bf057617e376.nc)"
      ]
     },
     "execution_count": 13,
     "metadata": {},
     "output_type": "execute_result"
    }
   ],
   "source": [
    "import cdsapi\n",
    "\n",
    "c = cdsapi.Client()\n",
    "\n",
    "c.retrieve(\n",
    "    'reanalysis-era5-land',\n",
    "    {\n",
    "        'variable': '2m_dewpoint_temperature',\n",
    "        'year': [\n",
    "            '2010', '2011', '2012', '2013', '2014',\n",
    "        ],\n",
    "        'month': [\n",
    "            '01', '02', '12',\n",
    "        ],\n",
    "        'day': [\n",
    "            '01', '02', '03',\n",
    "            '04', '05', '06',\n",
    "            '07', '08', '09',\n",
    "            '10', '11', '12',\n",
    "            '13', '14', '15',\n",
    "            '16', '17', '18',\n",
    "            '19', '20', '21',\n",
    "            '22', '23', '24',\n",
    "            '25', '26', '27',\n",
    "            '28', '29', '30',\n",
    "            '31',\n",
    "        ],\n",
    "        'time': [\n",
    "            '00:00', '01:00', '02:00',\n",
    "            '03:00', '04:00', '05:00',\n",
    "            '06:00', '07:00', '08:00',\n",
    "            '09:00', '10:00', '11:00',\n",
    "            '12:00', '13:00', '14:00',\n",
    "            '15:00', '16:00', '17:00',\n",
    "            '18:00', '19:00', '20:00',\n",
    "            '21:00', '22:00', '23:00',\n",
    "        ],\n",
    "        'area': [\n",
    "            -22.09, 26.39, -25.46,\n",
    "            32.06,\n",
    "        ],\n",
    "        'format': 'netcdf',\n",
    "    },\n",
    "    'ERA5-Land_td_hourly_2010_2014.nc')"
   ]
  },
  {
   "cell_type": "code",
   "execution_count": 14,
   "metadata": {},
   "outputs": [
    {
     "name": "stderr",
     "output_type": "stream",
     "text": [
      "2024-07-07 02:22:37,775 INFO Welcome to the CDS\n",
      "2024-07-07 02:22:37,775 INFO Sending request to https://cds.climate.copernicus.eu/api/v2/resources/reanalysis-era5-land\n",
      "2024-07-07 02:22:37,879 INFO Request is queued\n",
      "2024-07-07 02:22:40,489 INFO Request is running\n",
      "2024-07-07 02:52:58,719 INFO Request is completed\n",
      "2024-07-07 02:52:58,720 INFO Downloading https://download-0018.copernicus-climate.eu/cache-compute-0018/cache/data3/adaptor.mars.internal-1720317044.595152-3158-10-fcdfdc82-bb31-4ad6-a8ea-4980806fdda4.nc to ERA5-Land_td_hourly_2015_2019.nc (40.1M)\n",
      "2024-07-07 02:53:06,848 INFO Download rate 4.9M/s   \n"
     ]
    },
    {
     "data": {
      "text/plain": [
       "Result(content_length=41998560,content_type=application/x-netcdf,location=https://download-0018.copernicus-climate.eu/cache-compute-0018/cache/data3/adaptor.mars.internal-1720317044.595152-3158-10-fcdfdc82-bb31-4ad6-a8ea-4980806fdda4.nc)"
      ]
     },
     "execution_count": 14,
     "metadata": {},
     "output_type": "execute_result"
    }
   ],
   "source": [
    "import cdsapi\n",
    "\n",
    "c = cdsapi.Client()\n",
    "\n",
    "c.retrieve(\n",
    "    'reanalysis-era5-land',\n",
    "    {\n",
    "        'variable': '2m_dewpoint_temperature',\n",
    "        'year': [\n",
    "            '2015', '2016', '2017', '2018', '2019',\n",
    "        ],\n",
    "        'month': [\n",
    "            '01', '02', '12',\n",
    "        ],\n",
    "        'day': [\n",
    "            '01', '02', '03',\n",
    "            '04', '05', '06',\n",
    "            '07', '08', '09',\n",
    "            '10', '11', '12',\n",
    "            '13', '14', '15',\n",
    "            '16', '17', '18',\n",
    "            '19', '20', '21',\n",
    "            '22', '23', '24',\n",
    "            '25', '26', '27',\n",
    "            '28', '29', '30',\n",
    "            '31',\n",
    "        ],\n",
    "        'time': [\n",
    "            '00:00', '01:00', '02:00',\n",
    "            '03:00', '04:00', '05:00',\n",
    "            '06:00', '07:00', '08:00',\n",
    "            '09:00', '10:00', '11:00',\n",
    "            '12:00', '13:00', '14:00',\n",
    "            '15:00', '16:00', '17:00',\n",
    "            '18:00', '19:00', '20:00',\n",
    "            '21:00', '22:00', '23:00',\n",
    "        ],\n",
    "        'area': [\n",
    "            -22.09, 26.39, -25.46,\n",
    "            32.06,\n",
    "        ],\n",
    "        'format': 'netcdf',\n",
    "    },\n",
    "    'ERA5-Land_td_hourly_2015_2019.nc')"
   ]
  },
  {
   "cell_type": "code",
   "execution_count": 15,
   "metadata": {},
   "outputs": [
    {
     "name": "stderr",
     "output_type": "stream",
     "text": [
      "2024-07-07 02:53:06,921 INFO Welcome to the CDS\n",
      "2024-07-07 02:53:06,922 INFO Sending request to https://cds.climate.copernicus.eu/api/v2/resources/reanalysis-era5-land\n",
      "2024-07-07 02:53:07,014 INFO Request is queued\n",
      "2024-07-07 02:53:09,638 INFO Request is running\n",
      "2024-07-07 03:15:27,171 INFO Request is completed\n",
      "2024-07-07 03:15:27,172 INFO Downloading https://download-0001-clone.copernicus-climate.eu/cache-compute-0001/cache/data2/adaptor.mars.internal-1720318480.8981586-6314-5-ef1447fa-0e4f-4cd1-ad9f-fbf6fff5f6bd.nc to ERA5-Land_td_hourly_2020_2024.nc (37.4M)\n",
      "2024-07-07 03:15:27,181 WARNING Connection error: [('Connection aborted.', RemoteDisconnected('Remote end closed connection without response'))]. Attempt 1 of 500.\n",
      "2024-07-07 03:15:27,182 WARNING Retrying in 120 seconds\n",
      "2024-07-07 03:17:27,185 INFO Retrying now...\n",
      "2024-07-07 03:17:30,691 INFO Download rate 310K/s   \n"
     ]
    },
    {
     "data": {
      "text/plain": [
       "Result(content_length=39204960,content_type=application/x-netcdf,location=https://download-0001-clone.copernicus-climate.eu/cache-compute-0001/cache/data2/adaptor.mars.internal-1720318480.8981586-6314-5-ef1447fa-0e4f-4cd1-ad9f-fbf6fff5f6bd.nc)"
      ]
     },
     "execution_count": 15,
     "metadata": {},
     "output_type": "execute_result"
    }
   ],
   "source": [
    "import cdsapi\n",
    "\n",
    "c = cdsapi.Client()\n",
    "\n",
    "c.retrieve(\n",
    "    'reanalysis-era5-land',\n",
    "    {\n",
    "        'variable': '2m_dewpoint_temperature',\n",
    "        'year': [\n",
    "            '2020', '2021', '2022', '2023', '2024',\n",
    "        ],\n",
    "        'month': [\n",
    "            '01', '02', '12',\n",
    "        ],\n",
    "        'day': [\n",
    "            '01', '02', '03',\n",
    "            '04', '05', '06',\n",
    "            '07', '08', '09',\n",
    "            '10', '11', '12',\n",
    "            '13', '14', '15',\n",
    "            '16', '17', '18',\n",
    "            '19', '20', '21',\n",
    "            '22', '23', '24',\n",
    "            '25', '26', '27',\n",
    "            '28', '29', '30',\n",
    "            '31',\n",
    "        ],\n",
    "        'time': [\n",
    "            '00:00', '01:00', '02:00',\n",
    "            '03:00', '04:00', '05:00',\n",
    "            '06:00', '07:00', '08:00',\n",
    "            '09:00', '10:00', '11:00',\n",
    "            '12:00', '13:00', '14:00',\n",
    "            '15:00', '16:00', '17:00',\n",
    "            '18:00', '19:00', '20:00',\n",
    "            '21:00', '22:00', '23:00',\n",
    "        ],\n",
    "        'area': [\n",
    "            -22.09, 26.39, -25.46,\n",
    "            32.06,\n",
    "        ],\n",
    "        'format': 'netcdf',\n",
    "    },\n",
    "    'ERA5-Land_td_hourly_2020_2024.nc')"
   ]
  },
  {
   "cell_type": "markdown",
   "metadata": {},
   "source": [
    "## 2m Temperature"
   ]
  },
  {
   "cell_type": "code",
   "execution_count": 16,
   "metadata": {},
   "outputs": [
    {
     "name": "stderr",
     "output_type": "stream",
     "text": [
      "2024-07-07 03:17:30,869 INFO Welcome to the CDS\n",
      "2024-07-07 03:17:30,870 INFO Sending request to https://cds.climate.copernicus.eu/api/v2/resources/reanalysis-era5-land\n",
      "2024-07-07 03:17:30,954 INFO Request is queued\n",
      "2024-07-07 03:17:32,015 INFO Request is running\n",
      "2024-07-07 03:41:51,515 INFO Request is completed\n",
      "2024-07-07 03:41:51,517 INFO Downloading https://download-0014-clone.copernicus-climate.eu/cache-compute-0014/cache/data0/adaptor.mars.internal-1720320007.6953647-13547-8-284311e0-9417-4140-b393-8efc8af0221c.nc to ERA5-Land_tas_hourly_1950_1954.nc (40M)\n",
      "2024-07-07 03:41:57,822 INFO Download rate 6.4M/s   \n"
     ]
    },
    {
     "data": {
      "text/plain": [
       "Result(content_length=41994672,content_type=application/x-netcdf,location=https://download-0014-clone.copernicus-climate.eu/cache-compute-0014/cache/data0/adaptor.mars.internal-1720320007.6953647-13547-8-284311e0-9417-4140-b393-8efc8af0221c.nc)"
      ]
     },
     "execution_count": 16,
     "metadata": {},
     "output_type": "execute_result"
    }
   ],
   "source": [
    "import cdsapi\n",
    "\n",
    "c = cdsapi.Client()\n",
    "\n",
    "c.retrieve(\n",
    "    'reanalysis-era5-land',\n",
    "    {\n",
    "        'variable': '2m_temperature',\n",
    "        'year': [\n",
    "            '1950', '1951', '1952', '1953', '1954',\n",
    "        ],\n",
    "        'month': [\n",
    "            '01', '02', '12',\n",
    "        ],\n",
    "        'day': [\n",
    "            '01', '02', '03',\n",
    "            '04', '05', '06',\n",
    "            '07', '08', '09',\n",
    "            '10', '11', '12',\n",
    "            '13', '14', '15',\n",
    "            '16', '17', '18',\n",
    "            '19', '20', '21',\n",
    "            '22', '23', '24',\n",
    "            '25', '26', '27',\n",
    "            '28', '29', '30',\n",
    "            '31',\n",
    "        ],\n",
    "        'time': [\n",
    "            '00:00', '01:00', '02:00',\n",
    "            '03:00', '04:00', '05:00',\n",
    "            '06:00', '07:00', '08:00',\n",
    "            '09:00', '10:00', '11:00',\n",
    "            '12:00', '13:00', '14:00',\n",
    "            '15:00', '16:00', '17:00',\n",
    "            '18:00', '19:00', '20:00',\n",
    "            '21:00', '22:00', '23:00',\n",
    "        ],\n",
    "        'area': [\n",
    "            -22.09, 26.39, -25.46,\n",
    "            32.06,\n",
    "        ],\n",
    "        'format': 'netcdf',\n",
    "    },\n",
    "    'ERA5-Land_tas_hourly_1950_1954.nc')"
   ]
  },
  {
   "cell_type": "code",
   "execution_count": 17,
   "metadata": {},
   "outputs": [
    {
     "name": "stderr",
     "output_type": "stream",
     "text": [
      "2024-07-07 03:41:57,873 INFO Welcome to the CDS\n",
      "2024-07-07 03:41:57,874 INFO Sending request to https://cds.climate.copernicus.eu/api/v2/resources/reanalysis-era5-land\n",
      "2024-07-07 03:41:57,955 INFO Request is queued\n",
      "2024-07-07 03:42:11,454 INFO Request is running\n",
      "2024-07-07 04:06:18,323 INFO Request is completed\n",
      "2024-07-07 04:06:18,324 INFO Downloading https://download-0014-clone.copernicus-climate.eu/cache-compute-0014/cache/data9/adaptor.mars.internal-1720321526.9377854-24085-12-5daafbfa-48be-47a9-b45d-a80b84dfc6be.nc to ERA5-Land_tas_hourly_1955_1959.nc (40.1M)\n",
      "2024-07-07 04:06:28,001 INFO Download rate 4.1M/s   \n"
     ]
    },
    {
     "data": {
      "text/plain": [
       "Result(content_length=41998556,content_type=application/x-netcdf,location=https://download-0014-clone.copernicus-climate.eu/cache-compute-0014/cache/data9/adaptor.mars.internal-1720321526.9377854-24085-12-5daafbfa-48be-47a9-b45d-a80b84dfc6be.nc)"
      ]
     },
     "execution_count": 17,
     "metadata": {},
     "output_type": "execute_result"
    }
   ],
   "source": [
    "import cdsapi\n",
    "\n",
    "c = cdsapi.Client()\n",
    "\n",
    "c.retrieve(\n",
    "    'reanalysis-era5-land',\n",
    "    {\n",
    "        'variable': '2m_temperature',\n",
    "        'year': [\n",
    "            '1955', '1956', '1957', '1958', '1959',\n",
    "        ],\n",
    "        'month': [\n",
    "            '01', '02', '12',\n",
    "        ],\n",
    "        'day': [\n",
    "            '01', '02', '03',\n",
    "            '04', '05', '06',\n",
    "            '07', '08', '09',\n",
    "            '10', '11', '12',\n",
    "            '13', '14', '15',\n",
    "            '16', '17', '18',\n",
    "            '19', '20', '21',\n",
    "            '22', '23', '24',\n",
    "            '25', '26', '27',\n",
    "            '28', '29', '30',\n",
    "            '31',\n",
    "        ],\n",
    "        'time': [\n",
    "            '00:00', '01:00', '02:00',\n",
    "            '03:00', '04:00', '05:00',\n",
    "            '06:00', '07:00', '08:00',\n",
    "            '09:00', '10:00', '11:00',\n",
    "            '12:00', '13:00', '14:00',\n",
    "            '15:00', '16:00', '17:00',\n",
    "            '18:00', '19:00', '20:00',\n",
    "            '21:00', '22:00', '23:00',\n",
    "        ],\n",
    "        'area': [\n",
    "            -22.09, 26.39, -25.46,\n",
    "            32.06,\n",
    "        ],\n",
    "        'format': 'netcdf',\n",
    "    },\n",
    "    'ERA5-Land_tas_hourly_1955_1959.nc')"
   ]
  },
  {
   "cell_type": "code",
   "execution_count": 18,
   "metadata": {},
   "outputs": [
    {
     "name": "stderr",
     "output_type": "stream",
     "text": [
      "2024-07-07 04:06:28,079 INFO Welcome to the CDS\n",
      "2024-07-07 04:06:28,080 INFO Sending request to https://cds.climate.copernicus.eu/api/v2/resources/reanalysis-era5-land\n",
      "2024-07-07 04:06:28,194 INFO Request is queued\n",
      "2024-07-07 04:07:17,896 INFO Request is running\n",
      "2024-07-07 04:30:48,448 INFO Request is completed\n",
      "2024-07-07 04:30:48,450 INFO Downloading https://download-0017.copernicus-climate.eu/cache-compute-0017/cache/data6/adaptor.mars.internal-1720323009.8552678-3523-8-7804ec26-86e2-46b3-bd47-5ca491c8fb47.nc to ERA5-Land_tas_hourly_1960_1964.nc (40.1M)\n",
      "2024-07-07 04:30:53,648 INFO Download rate 7.7M/s   \n"
     ]
    },
    {
     "data": {
      "text/plain": [
       "Result(content_length=42091672,content_type=application/x-netcdf,location=https://download-0017.copernicus-climate.eu/cache-compute-0017/cache/data6/adaptor.mars.internal-1720323009.8552678-3523-8-7804ec26-86e2-46b3-bd47-5ca491c8fb47.nc)"
      ]
     },
     "execution_count": 18,
     "metadata": {},
     "output_type": "execute_result"
    }
   ],
   "source": [
    "import cdsapi\n",
    "\n",
    "c = cdsapi.Client()\n",
    "\n",
    "c.retrieve(\n",
    "    'reanalysis-era5-land',\n",
    "    {\n",
    "        'variable': '2m_temperature',\n",
    "        'year': [\n",
    "            '1960', '1961', '1962', '1963', '1964',\n",
    "        ],\n",
    "        'month': [\n",
    "            '01', '02', '12',\n",
    "        ],\n",
    "        'day': [\n",
    "            '01', '02', '03',\n",
    "            '04', '05', '06',\n",
    "            '07', '08', '09',\n",
    "            '10', '11', '12',\n",
    "            '13', '14', '15',\n",
    "            '16', '17', '18',\n",
    "            '19', '20', '21',\n",
    "            '22', '23', '24',\n",
    "            '25', '26', '27',\n",
    "            '28', '29', '30',\n",
    "            '31',\n",
    "        ],\n",
    "        'time': [\n",
    "            '00:00', '01:00', '02:00',\n",
    "            '03:00', '04:00', '05:00',\n",
    "            '06:00', '07:00', '08:00',\n",
    "            '09:00', '10:00', '11:00',\n",
    "            '12:00', '13:00', '14:00',\n",
    "            '15:00', '16:00', '17:00',\n",
    "            '18:00', '19:00', '20:00',\n",
    "            '21:00', '22:00', '23:00',\n",
    "        ],\n",
    "        'area': [\n",
    "            -22.09, 26.39, -25.46,\n",
    "            32.06,\n",
    "        ],\n",
    "        'format': 'netcdf',\n",
    "    },\n",
    "    'ERA5-Land_tas_hourly_1960_1964.nc')"
   ]
  },
  {
   "cell_type": "code",
   "execution_count": 19,
   "metadata": {},
   "outputs": [
    {
     "name": "stderr",
     "output_type": "stream",
     "text": [
      "2024-07-07 04:30:53,711 INFO Welcome to the CDS\n",
      "2024-07-07 04:30:53,717 INFO Sending request to https://cds.climate.copernicus.eu/api/v2/resources/reanalysis-era5-land\n",
      "2024-07-07 04:30:53,785 INFO Request is queued\n",
      "2024-07-07 04:31:14,912 INFO Request is running\n",
      "2024-07-07 04:55:14,127 INFO Request is completed\n",
      "2024-07-07 04:55:14,129 INFO Downloading https://download-0018.copernicus-climate.eu/cache-compute-0018/cache/data6/adaptor.mars.internal-1720324460.013794-23763-11-a9b3f29c-33c8-4d2d-b887-b3c1b404bece.nc to ERA5-Land_tas_hourly_1965_1969.nc (40.1M)\n",
      "2024-07-07 04:55:21,101 INFO Download rate 5.7M/s   \n"
     ]
    },
    {
     "data": {
      "text/plain": [
       "Result(content_length=41998552,content_type=application/x-netcdf,location=https://download-0018.copernicus-climate.eu/cache-compute-0018/cache/data6/adaptor.mars.internal-1720324460.013794-23763-11-a9b3f29c-33c8-4d2d-b887-b3c1b404bece.nc)"
      ]
     },
     "execution_count": 19,
     "metadata": {},
     "output_type": "execute_result"
    }
   ],
   "source": [
    "import cdsapi\n",
    "\n",
    "c = cdsapi.Client()\n",
    "\n",
    "c.retrieve(\n",
    "    'reanalysis-era5-land',\n",
    "    {\n",
    "        'variable': '2m_temperature',\n",
    "        'year': [\n",
    "            '1965', '1966', '1967', '1968', '1969',\n",
    "        ],\n",
    "        'month': [\n",
    "            '01', '02', '12',\n",
    "        ],\n",
    "        'day': [\n",
    "            '01', '02', '03',\n",
    "            '04', '05', '06',\n",
    "            '07', '08', '09',\n",
    "            '10', '11', '12',\n",
    "            '13', '14', '15',\n",
    "            '16', '17', '18',\n",
    "            '19', '20', '21',\n",
    "            '22', '23', '24',\n",
    "            '25', '26', '27',\n",
    "            '28', '29', '30',\n",
    "            '31',\n",
    "        ],\n",
    "        'time': [\n",
    "            '00:00', '01:00', '02:00',\n",
    "            '03:00', '04:00', '05:00',\n",
    "            '06:00', '07:00', '08:00',\n",
    "            '09:00', '10:00', '11:00',\n",
    "            '12:00', '13:00', '14:00',\n",
    "            '15:00', '16:00', '17:00',\n",
    "            '18:00', '19:00', '20:00',\n",
    "            '21:00', '22:00', '23:00',\n",
    "        ],\n",
    "        'area': [\n",
    "            -22.09, 26.39, -25.46,\n",
    "            32.06,\n",
    "        ],\n",
    "        'format': 'netcdf',\n",
    "    },\n",
    "    'ERA5-Land_tas_hourly_1965_1969.nc')"
   ]
  },
  {
   "cell_type": "code",
   "execution_count": 20,
   "metadata": {},
   "outputs": [
    {
     "name": "stderr",
     "output_type": "stream",
     "text": [
      "2024-07-07 04:55:21,172 INFO Welcome to the CDS\n",
      "2024-07-07 04:55:21,176 INFO Sending request to https://cds.climate.copernicus.eu/api/v2/resources/reanalysis-era5-land\n",
      "2024-07-07 04:55:21,263 INFO Request is queued\n",
      "2024-07-07 04:56:11,001 INFO Request is running\n",
      "2024-07-07 05:17:41,398 INFO Request is completed\n",
      "2024-07-07 05:17:41,399 INFO Downloading https://download-0003-clone.copernicus-climate.eu/cache-compute-0003/cache/data1/adaptor.mars.internal-1720325794.32509-21769-1-a7e84416-069a-4d31-8fc2-133e98a497a3.nc to ERA5-Land_tas_hourly_1970_1974.nc (40.1M)\n",
      "2024-07-07 05:17:47,792 INFO Download rate 6.3M/s   \n"
     ]
    },
    {
     "data": {
      "text/plain": [
       "Result(content_length=41998552,content_type=application/x-netcdf,location=https://download-0003-clone.copernicus-climate.eu/cache-compute-0003/cache/data1/adaptor.mars.internal-1720325794.32509-21769-1-a7e84416-069a-4d31-8fc2-133e98a497a3.nc)"
      ]
     },
     "execution_count": 20,
     "metadata": {},
     "output_type": "execute_result"
    }
   ],
   "source": [
    "import cdsapi\n",
    "\n",
    "c = cdsapi.Client()\n",
    "\n",
    "c.retrieve(\n",
    "    'reanalysis-era5-land',\n",
    "    {\n",
    "        'variable': '2m_temperature',\n",
    "        'year': [\n",
    "            '1970', '1971', '1972', '1973', '1974',\n",
    "        ],\n",
    "        'month': [\n",
    "            '01', '02', '12',\n",
    "        ],\n",
    "        'day': [\n",
    "            '01', '02', '03',\n",
    "            '04', '05', '06',\n",
    "            '07', '08', '09',\n",
    "            '10', '11', '12',\n",
    "            '13', '14', '15',\n",
    "            '16', '17', '18',\n",
    "            '19', '20', '21',\n",
    "            '22', '23', '24',\n",
    "            '25', '26', '27',\n",
    "            '28', '29', '30',\n",
    "            '31',\n",
    "        ],\n",
    "        'time': [\n",
    "            '00:00', '01:00', '02:00',\n",
    "            '03:00', '04:00', '05:00',\n",
    "            '06:00', '07:00', '08:00',\n",
    "            '09:00', '10:00', '11:00',\n",
    "            '12:00', '13:00', '14:00',\n",
    "            '15:00', '16:00', '17:00',\n",
    "            '18:00', '19:00', '20:00',\n",
    "            '21:00', '22:00', '23:00',\n",
    "        ],\n",
    "        'area': [\n",
    "            -22.09, 26.39, -25.46,\n",
    "            32.06,\n",
    "        ],\n",
    "        'format': 'netcdf',\n",
    "    },\n",
    "    'ERA5-Land_tas_hourly_1970_1974.nc')"
   ]
  },
  {
   "cell_type": "code",
   "execution_count": 21,
   "metadata": {},
   "outputs": [
    {
     "name": "stderr",
     "output_type": "stream",
     "text": [
      "2024-07-07 05:17:47,860 INFO Welcome to the CDS\n",
      "2024-07-07 05:17:47,863 INFO Sending request to https://cds.climate.copernicus.eu/api/v2/resources/reanalysis-era5-land\n",
      "2024-07-07 05:17:47,939 INFO Request is queued\n",
      "2024-07-07 05:17:48,995 INFO Request is running\n",
      "2024-07-07 05:48:08,855 INFO Request is completed\n",
      "2024-07-07 05:48:08,857 INFO Downloading https://download-0010-clone.copernicus-climate.eu/cache-compute-0010/cache/data5/adaptor.mars.internal-1720327613.08339-22665-16-7c39c9e8-f78b-4d17-a14f-59c16ce604ed.nc to ERA5-Land_tas_hourly_1975_1979.nc (40.1M)\n",
      "2024-07-07 05:48:14,116 INFO Download rate 7.6M/s   \n"
     ]
    },
    {
     "data": {
      "text/plain": [
       "Result(content_length=41998552,content_type=application/x-netcdf,location=https://download-0010-clone.copernicus-climate.eu/cache-compute-0010/cache/data5/adaptor.mars.internal-1720327613.08339-22665-16-7c39c9e8-f78b-4d17-a14f-59c16ce604ed.nc)"
      ]
     },
     "execution_count": 21,
     "metadata": {},
     "output_type": "execute_result"
    }
   ],
   "source": [
    "import cdsapi\n",
    "\n",
    "c = cdsapi.Client()\n",
    "\n",
    "c.retrieve(\n",
    "    'reanalysis-era5-land',\n",
    "    {\n",
    "        'variable': '2m_temperature',\n",
    "        'year': [\n",
    "            '1975', '1976', '1977', '1978', '1979',\n",
    "        ],\n",
    "        'month': [\n",
    "            '01', '02', '12',\n",
    "        ],\n",
    "        'day': [\n",
    "            '01', '02', '03',\n",
    "            '04', '05', '06',\n",
    "            '07', '08', '09',\n",
    "            '10', '11', '12',\n",
    "            '13', '14', '15',\n",
    "            '16', '17', '18',\n",
    "            '19', '20', '21',\n",
    "            '22', '23', '24',\n",
    "            '25', '26', '27',\n",
    "            '28', '29', '30',\n",
    "            '31',\n",
    "        ],\n",
    "        'time': [\n",
    "            '00:00', '01:00', '02:00',\n",
    "            '03:00', '04:00', '05:00',\n",
    "            '06:00', '07:00', '08:00',\n",
    "            '09:00', '10:00', '11:00',\n",
    "            '12:00', '13:00', '14:00',\n",
    "            '15:00', '16:00', '17:00',\n",
    "            '18:00', '19:00', '20:00',\n",
    "            '21:00', '22:00', '23:00',\n",
    "        ],\n",
    "        'area': [\n",
    "            -22.09, 26.39, -25.46,\n",
    "            32.06,\n",
    "        ],\n",
    "        'format': 'netcdf',\n",
    "    },\n",
    "    'ERA5-Land_tas_hourly_1975_1979.nc')"
   ]
  },
  {
   "cell_type": "code",
   "execution_count": 22,
   "metadata": {},
   "outputs": [
    {
     "name": "stderr",
     "output_type": "stream",
     "text": [
      "2024-07-07 05:48:14,168 INFO Welcome to the CDS\n",
      "2024-07-07 05:48:14,168 INFO Sending request to https://cds.climate.copernicus.eu/api/v2/resources/reanalysis-era5-land\n",
      "2024-07-07 05:48:14,266 INFO Request is queued\n",
      "2024-07-07 05:48:27,788 INFO Request is running\n",
      "2024-07-07 06:18:56,792 INFO Request is completed\n",
      "2024-07-07 06:18:56,794 INFO Downloading https://download-0013-clone.copernicus-climate.eu/cache-compute-0013/cache/data7/adaptor.mars.internal-1720329459.3526707-20504-8-c89f3e1f-2967-4f3d-b8a7-43447ff103a8.nc to ERA5-Land_tas_hourly_1980_1984.nc (40.1M)\n",
      "2024-07-07 06:18:56,803 WARNING Connection error: [('Connection aborted.', RemoteDisconnected('Remote end closed connection without response'))]. Attempt 1 of 500.\n",
      "2024-07-07 06:18:56,803 WARNING Retrying in 120 seconds\n",
      "2024-07-07 06:20:56,808 INFO Retrying now...\n",
      "2024-07-07 06:21:10,577 INFO Download rate 307.3K/s \n"
     ]
    },
    {
     "data": {
      "text/plain": [
       "Result(content_length=42091672,content_type=application/x-netcdf,location=https://download-0013-clone.copernicus-climate.eu/cache-compute-0013/cache/data7/adaptor.mars.internal-1720329459.3526707-20504-8-c89f3e1f-2967-4f3d-b8a7-43447ff103a8.nc)"
      ]
     },
     "execution_count": 22,
     "metadata": {},
     "output_type": "execute_result"
    }
   ],
   "source": [
    "import cdsapi\n",
    "\n",
    "c = cdsapi.Client()\n",
    "\n",
    "c.retrieve(\n",
    "    'reanalysis-era5-land',\n",
    "    {\n",
    "        'variable': '2m_temperature',\n",
    "        'year': [\n",
    "            '1980', '1981', '1982', '1983', '1984',\n",
    "        ],\n",
    "        'month': [\n",
    "            '01', '02', '12',\n",
    "        ],\n",
    "        'day': [\n",
    "            '01', '02', '03',\n",
    "            '04', '05', '06',\n",
    "            '07', '08', '09',\n",
    "            '10', '11', '12',\n",
    "            '13', '14', '15',\n",
    "            '16', '17', '18',\n",
    "            '19', '20', '21',\n",
    "            '22', '23', '24',\n",
    "            '25', '26', '27',\n",
    "            '28', '29', '30',\n",
    "            '31',\n",
    "        ],\n",
    "        'time': [\n",
    "            '00:00', '01:00', '02:00',\n",
    "            '03:00', '04:00', '05:00',\n",
    "            '06:00', '07:00', '08:00',\n",
    "            '09:00', '10:00', '11:00',\n",
    "            '12:00', '13:00', '14:00',\n",
    "            '15:00', '16:00', '17:00',\n",
    "            '18:00', '19:00', '20:00',\n",
    "            '21:00', '22:00', '23:00',\n",
    "        ],\n",
    "        'area': [\n",
    "            -22.09, 26.39, -25.46,\n",
    "            32.06,\n",
    "        ],\n",
    "        'format': 'netcdf',\n",
    "    },\n",
    "    'ERA5-Land_tas_hourly_1980_1984.nc')"
   ]
  },
  {
   "cell_type": "code",
   "execution_count": 23,
   "metadata": {},
   "outputs": [
    {
     "name": "stderr",
     "output_type": "stream",
     "text": [
      "2024-07-07 06:21:10,759 INFO Welcome to the CDS\n",
      "2024-07-07 06:21:10,760 INFO Sending request to https://cds.climate.copernicus.eu/api/v2/resources/reanalysis-era5-land\n",
      "2024-07-07 06:21:10,817 INFO Request is queued\n",
      "2024-07-07 06:21:13,438 INFO Request is running\n",
      "2024-07-07 06:49:31,722 INFO Request is completed\n",
      "2024-07-07 06:49:31,726 INFO Downloading https://download-0015-clone.copernicus-climate.eu/cache-compute-0015/cache/data8/adaptor.mars.internal-1720331298.2338262-7967-8-551c5c6b-ec66-495a-824e-c47bb6f101d9.nc to ERA5-Land_tas_hourly_1985_1989.nc (40.1M)\n",
      "2024-07-07 06:49:40,927 INFO Download rate 4.4M/s   \n"
     ]
    },
    {
     "data": {
      "text/plain": [
       "Result(content_length=41998552,content_type=application/x-netcdf,location=https://download-0015-clone.copernicus-climate.eu/cache-compute-0015/cache/data8/adaptor.mars.internal-1720331298.2338262-7967-8-551c5c6b-ec66-495a-824e-c47bb6f101d9.nc)"
      ]
     },
     "execution_count": 23,
     "metadata": {},
     "output_type": "execute_result"
    }
   ],
   "source": [
    "import cdsapi\n",
    "\n",
    "c = cdsapi.Client()\n",
    "\n",
    "c.retrieve(\n",
    "    'reanalysis-era5-land',\n",
    "    {\n",
    "        'variable': '2m_temperature',\n",
    "        'year': [\n",
    "            '1985', '1986', '1987', '1988', '1989',\n",
    "        ],\n",
    "        'month': [\n",
    "            '01', '02', '12',\n",
    "        ],\n",
    "        'day': [\n",
    "            '01', '02', '03',\n",
    "            '04', '05', '06',\n",
    "            '07', '08', '09',\n",
    "            '10', '11', '12',\n",
    "            '13', '14', '15',\n",
    "            '16', '17', '18',\n",
    "            '19', '20', '21',\n",
    "            '22', '23', '24',\n",
    "            '25', '26', '27',\n",
    "            '28', '29', '30',\n",
    "            '31',\n",
    "        ],\n",
    "        'time': [\n",
    "            '00:00', '01:00', '02:00',\n",
    "            '03:00', '04:00', '05:00',\n",
    "            '06:00', '07:00', '08:00',\n",
    "            '09:00', '10:00', '11:00',\n",
    "            '12:00', '13:00', '14:00',\n",
    "            '15:00', '16:00', '17:00',\n",
    "            '18:00', '19:00', '20:00',\n",
    "            '21:00', '22:00', '23:00',\n",
    "        ],\n",
    "        'area': [\n",
    "            -22.09, 26.39, -25.46,\n",
    "            32.06,\n",
    "        ],\n",
    "        'format': 'netcdf',\n",
    "    },\n",
    "    'ERA5-Land_tas_hourly_1985_1989.nc')"
   ]
  },
  {
   "cell_type": "code",
   "execution_count": 24,
   "metadata": {},
   "outputs": [
    {
     "name": "stderr",
     "output_type": "stream",
     "text": [
      "2024-07-07 06:49:40,987 INFO Welcome to the CDS\n",
      "2024-07-07 06:49:40,988 INFO Sending request to https://cds.climate.copernicus.eu/api/v2/resources/reanalysis-era5-land\n",
      "2024-07-07 06:49:41,107 INFO Request is queued\n",
      "2024-07-07 06:49:42,160 INFO Request is running\n",
      "2024-07-07 07:18:01,887 INFO Request is completed\n",
      "2024-07-07 07:18:01,890 INFO Downloading https://download-0017.copernicus-climate.eu/cache-compute-0017/cache/data3/adaptor.mars.internal-1720332968.5489478-30868-13-3da281f3-5258-4bb4-b2cc-dfc2702a0c34.nc to ERA5-Land_tas_hourly_1990_1994.nc (40.1M)\n",
      "2024-07-07 07:18:18,521 INFO Download rate 2.4M/s   \n"
     ]
    },
    {
     "data": {
      "text/plain": [
       "Result(content_length=41998552,content_type=application/x-netcdf,location=https://download-0017.copernicus-climate.eu/cache-compute-0017/cache/data3/adaptor.mars.internal-1720332968.5489478-30868-13-3da281f3-5258-4bb4-b2cc-dfc2702a0c34.nc)"
      ]
     },
     "execution_count": 24,
     "metadata": {},
     "output_type": "execute_result"
    }
   ],
   "source": [
    "import cdsapi\n",
    "\n",
    "c = cdsapi.Client()\n",
    "\n",
    "c.retrieve(\n",
    "    'reanalysis-era5-land',\n",
    "    {\n",
    "        'variable': '2m_temperature',\n",
    "        'year': [\n",
    "            '1990', '1991', '1992', '1993', '1994',\n",
    "        ],\n",
    "        'month': [\n",
    "            '01', '02', '12',\n",
    "        ],\n",
    "        'day': [\n",
    "            '01', '02', '03',\n",
    "            '04', '05', '06',\n",
    "            '07', '08', '09',\n",
    "            '10', '11', '12',\n",
    "            '13', '14', '15',\n",
    "            '16', '17', '18',\n",
    "            '19', '20', '21',\n",
    "            '22', '23', '24',\n",
    "            '25', '26', '27',\n",
    "            '28', '29', '30',\n",
    "            '31',\n",
    "        ],\n",
    "        'time': [\n",
    "            '00:00', '01:00', '02:00',\n",
    "            '03:00', '04:00', '05:00',\n",
    "            '06:00', '07:00', '08:00',\n",
    "            '09:00', '10:00', '11:00',\n",
    "            '12:00', '13:00', '14:00',\n",
    "            '15:00', '16:00', '17:00',\n",
    "            '18:00', '19:00', '20:00',\n",
    "            '21:00', '22:00', '23:00',\n",
    "        ],\n",
    "        'area': [\n",
    "            -22.09, 26.39, -25.46,\n",
    "            32.06,\n",
    "        ],\n",
    "        'format': 'netcdf',\n",
    "    },\n",
    "    'ERA5-Land_tas_hourly_1990_1994.nc')"
   ]
  },
  {
   "cell_type": "code",
   "execution_count": 25,
   "metadata": {},
   "outputs": [
    {
     "name": "stderr",
     "output_type": "stream",
     "text": [
      "2024-07-07 07:18:18,584 INFO Welcome to the CDS\n",
      "2024-07-07 07:18:18,585 INFO Sending request to https://cds.climate.copernicus.eu/api/v2/resources/reanalysis-era5-land\n",
      "2024-07-07 07:18:18,675 INFO Request is queued\n",
      "2024-07-07 07:18:27,278 INFO Request is running\n",
      "2024-07-07 07:44:39,658 INFO Request is completed\n",
      "2024-07-07 07:44:39,662 INFO Downloading https://download-0014-clone.copernicus-climate.eu/cache-compute-0014/cache/data3/adaptor.mars.internal-1720334598.7196057-19558-5-6461ab08-ceea-460e-abbf-b1c1844f7a66.nc to ERA5-Land_tas_hourly_1995_1999.nc (40.1M)\n",
      "2024-07-07 07:44:49,996 INFO Download rate 3.9M/s   \n"
     ]
    },
    {
     "data": {
      "text/plain": [
       "Result(content_length=41998552,content_type=application/x-netcdf,location=https://download-0014-clone.copernicus-climate.eu/cache-compute-0014/cache/data3/adaptor.mars.internal-1720334598.7196057-19558-5-6461ab08-ceea-460e-abbf-b1c1844f7a66.nc)"
      ]
     },
     "execution_count": 25,
     "metadata": {},
     "output_type": "execute_result"
    }
   ],
   "source": [
    "import cdsapi\n",
    "\n",
    "c = cdsapi.Client()\n",
    "\n",
    "c.retrieve(\n",
    "    'reanalysis-era5-land',\n",
    "    {\n",
    "        'variable': '2m_temperature',\n",
    "        'year': [\n",
    "            '1995', '1996', '1997', '1998', '1999',\n",
    "        ],\n",
    "        'month': [\n",
    "            '01', '02', '12',\n",
    "        ],\n",
    "        'day': [\n",
    "            '01', '02', '03',\n",
    "            '04', '05', '06',\n",
    "            '07', '08', '09',\n",
    "            '10', '11', '12',\n",
    "            '13', '14', '15',\n",
    "            '16', '17', '18',\n",
    "            '19', '20', '21',\n",
    "            '22', '23', '24',\n",
    "            '25', '26', '27',\n",
    "            '28', '29', '30',\n",
    "            '31',\n",
    "        ],\n",
    "        'time': [\n",
    "            '00:00', '01:00', '02:00',\n",
    "            '03:00', '04:00', '05:00',\n",
    "            '06:00', '07:00', '08:00',\n",
    "            '09:00', '10:00', '11:00',\n",
    "            '12:00', '13:00', '14:00',\n",
    "            '15:00', '16:00', '17:00',\n",
    "            '18:00', '19:00', '20:00',\n",
    "            '21:00', '22:00', '23:00',\n",
    "        ],\n",
    "        'area': [\n",
    "            -22.09, 26.39, -25.46,\n",
    "            32.06,\n",
    "        ],\n",
    "        'format': 'netcdf',\n",
    "    },\n",
    "    'ERA5-Land_tas_hourly_1995_1999.nc')"
   ]
  },
  {
   "cell_type": "code",
   "execution_count": 26,
   "metadata": {},
   "outputs": [
    {
     "name": "stderr",
     "output_type": "stream",
     "text": [
      "2024-07-07 07:44:50,052 INFO Welcome to the CDS\n",
      "2024-07-07 07:44:50,052 INFO Sending request to https://cds.climate.copernicus.eu/api/v2/resources/reanalysis-era5-land\n",
      "2024-07-07 07:44:50,117 INFO Request is queued\n",
      "2024-07-07 07:44:52,734 INFO Request is running\n",
      "2024-07-07 08:12:24,136 INFO Request is completed\n",
      "2024-07-07 08:12:24,137 INFO Downloading https://download-0004-clone.copernicus-climate.eu/cache-compute-0004/cache/data9/adaptor.mars.internal-1720336206.0047464-13244-3-1490dbd5-3a7c-4cf0-af1e-e5c39b339d2b.nc to ERA5-Land_tas_hourly_2000_2004.nc (40.1M)\n",
      "2024-07-07 08:12:30,047 INFO Download rate 6.8M/s   \n"
     ]
    },
    {
     "data": {
      "text/plain": [
       "Result(content_length=42091672,content_type=application/x-netcdf,location=https://download-0004-clone.copernicus-climate.eu/cache-compute-0004/cache/data9/adaptor.mars.internal-1720336206.0047464-13244-3-1490dbd5-3a7c-4cf0-af1e-e5c39b339d2b.nc)"
      ]
     },
     "execution_count": 26,
     "metadata": {},
     "output_type": "execute_result"
    }
   ],
   "source": [
    "import cdsapi\n",
    "\n",
    "c = cdsapi.Client()\n",
    "\n",
    "c.retrieve(\n",
    "    'reanalysis-era5-land',\n",
    "    {\n",
    "        'variable': '2m_temperature',\n",
    "        'year': [\n",
    "            '2000', '2001', '2002', '2003', '2004',\n",
    "        ],\n",
    "        'month': [\n",
    "            '01', '02', '12',\n",
    "        ],\n",
    "        'day': [\n",
    "            '01', '02', '03',\n",
    "            '04', '05', '06',\n",
    "            '07', '08', '09',\n",
    "            '10', '11', '12',\n",
    "            '13', '14', '15',\n",
    "            '16', '17', '18',\n",
    "            '19', '20', '21',\n",
    "            '22', '23', '24',\n",
    "            '25', '26', '27',\n",
    "            '28', '29', '30',\n",
    "            '31',\n",
    "        ],\n",
    "        'time': [\n",
    "            '00:00', '01:00', '02:00',\n",
    "            '03:00', '04:00', '05:00',\n",
    "            '06:00', '07:00', '08:00',\n",
    "            '09:00', '10:00', '11:00',\n",
    "            '12:00', '13:00', '14:00',\n",
    "            '15:00', '16:00', '17:00',\n",
    "            '18:00', '19:00', '20:00',\n",
    "            '21:00', '22:00', '23:00',\n",
    "        ],\n",
    "        'area': [\n",
    "            -22.09, 26.39, -25.46,\n",
    "            32.06,\n",
    "        ],\n",
    "        'format': 'netcdf',\n",
    "    },\n",
    "    'ERA5-Land_tas_hourly_2000_2004.nc')"
   ]
  },
  {
   "cell_type": "code",
   "execution_count": 27,
   "metadata": {},
   "outputs": [
    {
     "name": "stderr",
     "output_type": "stream",
     "text": [
      "2024-07-07 08:12:30,104 INFO Welcome to the CDS\n",
      "2024-07-07 08:12:30,104 INFO Sending request to https://cds.climate.copernicus.eu/api/v2/resources/reanalysis-era5-land\n",
      "2024-07-07 08:12:30,167 INFO Request is queued\n",
      "2024-07-07 08:12:31,214 INFO Request is running\n",
      "2024-07-07 08:42:51,099 INFO Request is completed\n",
      "2024-07-07 08:42:51,103 INFO Downloading https://download-0015-clone.copernicus-climate.eu/cache-compute-0015/cache/data0/adaptor.mars.internal-1720338089.2711723-26281-7-1b8b15b0-bb83-44c5-990f-ee3cbadc2455.nc to ERA5-Land_tas_hourly_2005_2009.nc (40.1M)\n",
      "2024-07-07 08:42:55,462 INFO Download rate 9.2M/s   \n"
     ]
    },
    {
     "data": {
      "text/plain": [
       "Result(content_length=41998552,content_type=application/x-netcdf,location=https://download-0015-clone.copernicus-climate.eu/cache-compute-0015/cache/data0/adaptor.mars.internal-1720338089.2711723-26281-7-1b8b15b0-bb83-44c5-990f-ee3cbadc2455.nc)"
      ]
     },
     "execution_count": 27,
     "metadata": {},
     "output_type": "execute_result"
    }
   ],
   "source": [
    "import cdsapi\n",
    "\n",
    "c = cdsapi.Client()\n",
    "\n",
    "c.retrieve(\n",
    "    'reanalysis-era5-land',\n",
    "    {\n",
    "        'variable': '2m_temperature',\n",
    "        'year': [\n",
    "            '2005', '2006', '2007', '2008', '2009',\n",
    "        ],\n",
    "        'month': [\n",
    "            '01', '02', '12',\n",
    "        ],\n",
    "        'day': [\n",
    "            '01', '02', '03',\n",
    "            '04', '05', '06',\n",
    "            '07', '08', '09',\n",
    "            '10', '11', '12',\n",
    "            '13', '14', '15',\n",
    "            '16', '17', '18',\n",
    "            '19', '20', '21',\n",
    "            '22', '23', '24',\n",
    "            '25', '26', '27',\n",
    "            '28', '29', '30',\n",
    "            '31',\n",
    "        ],\n",
    "        'time': [\n",
    "            '00:00', '01:00', '02:00',\n",
    "            '03:00', '04:00', '05:00',\n",
    "            '06:00', '07:00', '08:00',\n",
    "            '09:00', '10:00', '11:00',\n",
    "            '12:00', '13:00', '14:00',\n",
    "            '15:00', '16:00', '17:00',\n",
    "            '18:00', '19:00', '20:00',\n",
    "            '21:00', '22:00', '23:00',\n",
    "        ],\n",
    "        'area': [\n",
    "            -22.09, 26.39, -25.46,\n",
    "            32.06,\n",
    "        ],\n",
    "        'format': 'netcdf',\n",
    "    },\n",
    "    'ERA5-Land_tas_hourly_2005_2009.nc')"
   ]
  },
  {
   "cell_type": "code",
   "execution_count": 28,
   "metadata": {},
   "outputs": [
    {
     "name": "stderr",
     "output_type": "stream",
     "text": [
      "2024-07-07 08:42:55,529 INFO Welcome to the CDS\n",
      "2024-07-07 08:42:55,532 INFO Sending request to https://cds.climate.copernicus.eu/api/v2/resources/reanalysis-era5-land\n",
      "2024-07-07 08:42:55,633 INFO Request is queued\n",
      "2024-07-07 08:43:00,570 INFO Request is running\n",
      "2024-07-07 09:17:17,021 INFO Request is completed\n",
      "2024-07-07 09:17:17,023 INFO Downloading https://download-0005-clone.copernicus-climate.eu/cache-compute-0005/cache/data3/adaptor.mars.internal-1720340098.547795-15301-18-775745b2-7ab3-490c-a28b-f06b5e94a7c5.nc to ERA5-Land_tas_hourly_2010_2014.nc (40.1M)\n",
      "2024-07-07 09:17:22,785 INFO Download rate 7M/s     \n"
     ]
    },
    {
     "data": {
      "text/plain": [
       "Result(content_length=41998552,content_type=application/x-netcdf,location=https://download-0005-clone.copernicus-climate.eu/cache-compute-0005/cache/data3/adaptor.mars.internal-1720340098.547795-15301-18-775745b2-7ab3-490c-a28b-f06b5e94a7c5.nc)"
      ]
     },
     "execution_count": 28,
     "metadata": {},
     "output_type": "execute_result"
    }
   ],
   "source": [
    "import cdsapi\n",
    "\n",
    "c = cdsapi.Client()\n",
    "\n",
    "c.retrieve(\n",
    "    'reanalysis-era5-land',\n",
    "    {\n",
    "        'variable': '2m_temperature',\n",
    "        'year': [\n",
    "            '2010', '2011', '2012', '2013', '2014',\n",
    "        ],\n",
    "        'month': [\n",
    "            '01', '02', '12',\n",
    "        ],\n",
    "        'day': [\n",
    "            '01', '02', '03',\n",
    "            '04', '05', '06',\n",
    "            '07', '08', '09',\n",
    "            '10', '11', '12',\n",
    "            '13', '14', '15',\n",
    "            '16', '17', '18',\n",
    "            '19', '20', '21',\n",
    "            '22', '23', '24',\n",
    "            '25', '26', '27',\n",
    "            '28', '29', '30',\n",
    "            '31',\n",
    "        ],\n",
    "        'time': [\n",
    "            '00:00', '01:00', '02:00',\n",
    "            '03:00', '04:00', '05:00',\n",
    "            '06:00', '07:00', '08:00',\n",
    "            '09:00', '10:00', '11:00',\n",
    "            '12:00', '13:00', '14:00',\n",
    "            '15:00', '16:00', '17:00',\n",
    "            '18:00', '19:00', '20:00',\n",
    "            '21:00', '22:00', '23:00',\n",
    "        ],\n",
    "        'area': [\n",
    "            -22.09, 26.39, -25.46,\n",
    "            32.06,\n",
    "        ],\n",
    "        'format': 'netcdf',\n",
    "    },\n",
    "    'ERA5-Land_tas_hourly_2010_2014.nc')"
   ]
  },
  {
   "cell_type": "code",
   "execution_count": 29,
   "metadata": {},
   "outputs": [
    {
     "name": "stderr",
     "output_type": "stream",
     "text": [
      "2024-07-07 09:17:22,843 INFO Welcome to the CDS\n",
      "2024-07-07 09:17:22,843 INFO Sending request to https://cds.climate.copernicus.eu/api/v2/resources/reanalysis-era5-land\n",
      "2024-07-07 09:17:22,929 INFO Request is queued\n",
      "2024-07-07 09:17:23,992 INFO Request is running\n",
      "2024-07-07 09:49:44,380 INFO Request is completed\n",
      "2024-07-07 09:49:44,382 INFO Downloading https://download-0009-clone.copernicus-climate.eu/cache-compute-0009/cache/data0/adaptor.mars.internal-1720342035.8060322-3304-9-876cde94-3aad-4b25-8063-f74486128256.nc to ERA5-Land_tas_hourly_2015_2019.nc (40.1M)\n",
      "2024-07-07 09:49:49,041 INFO Download rate 8.6M/s   \n"
     ]
    },
    {
     "data": {
      "text/plain": [
       "Result(content_length=41998552,content_type=application/x-netcdf,location=https://download-0009-clone.copernicus-climate.eu/cache-compute-0009/cache/data0/adaptor.mars.internal-1720342035.8060322-3304-9-876cde94-3aad-4b25-8063-f74486128256.nc)"
      ]
     },
     "execution_count": 29,
     "metadata": {},
     "output_type": "execute_result"
    }
   ],
   "source": [
    "import cdsapi\n",
    "\n",
    "c = cdsapi.Client()\n",
    "\n",
    "c.retrieve(\n",
    "    'reanalysis-era5-land',\n",
    "    {\n",
    "        'variable': '2m_temperature',\n",
    "        'year': [\n",
    "            '2015', '2016', '2017', '2018', '2019',\n",
    "        ],\n",
    "        'month': [\n",
    "            '01', '02', '12',\n",
    "        ],\n",
    "        'day': [\n",
    "            '01', '02', '03',\n",
    "            '04', '05', '06',\n",
    "            '07', '08', '09',\n",
    "            '10', '11', '12',\n",
    "            '13', '14', '15',\n",
    "            '16', '17', '18',\n",
    "            '19', '20', '21',\n",
    "            '22', '23', '24',\n",
    "            '25', '26', '27',\n",
    "            '28', '29', '30',\n",
    "            '31',\n",
    "        ],\n",
    "        'time': [\n",
    "            '00:00', '01:00', '02:00',\n",
    "            '03:00', '04:00', '05:00',\n",
    "            '06:00', '07:00', '08:00',\n",
    "            '09:00', '10:00', '11:00',\n",
    "            '12:00', '13:00', '14:00',\n",
    "            '15:00', '16:00', '17:00',\n",
    "            '18:00', '19:00', '20:00',\n",
    "            '21:00', '22:00', '23:00',\n",
    "        ],\n",
    "        'area': [\n",
    "            -22.09, 26.39, -25.46,\n",
    "            32.06,\n",
    "        ],\n",
    "        'format': 'netcdf',\n",
    "    },\n",
    "    'ERA5-Land_tas_hourly_2015_2019.nc')"
   ]
  },
  {
   "cell_type": "code",
   "execution_count": 30,
   "metadata": {},
   "outputs": [
    {
     "name": "stderr",
     "output_type": "stream",
     "text": [
      "2024-07-07 09:49:49,097 INFO Welcome to the CDS\n",
      "2024-07-07 09:49:49,097 INFO Sending request to https://cds.climate.copernicus.eu/api/v2/resources/reanalysis-era5-land\n",
      "2024-07-07 09:49:49,225 INFO Request is queued\n",
      "2024-07-07 09:49:50,281 INFO Request is running\n",
      "2024-07-07 10:14:09,670 INFO Request is completed\n",
      "2024-07-07 10:14:09,672 INFO Downloading https://download-0016.copernicus-climate.eu/cache-compute-0016/cache/data7/adaptor.mars.internal-1720343540.643685-8156-2-9031f11a-f85c-4f3a-bbea-25ce4dc20d1c.nc to ERA5-Land_tas_hourly_2020_2024.nc (37.4M)\n",
      "2024-07-07 10:14:19,052 INFO Download rate 4M/s     \n"
     ]
    },
    {
     "data": {
      "text/plain": [
       "Result(content_length=39204948,content_type=application/x-netcdf,location=https://download-0016.copernicus-climate.eu/cache-compute-0016/cache/data7/adaptor.mars.internal-1720343540.643685-8156-2-9031f11a-f85c-4f3a-bbea-25ce4dc20d1c.nc)"
      ]
     },
     "execution_count": 30,
     "metadata": {},
     "output_type": "execute_result"
    }
   ],
   "source": [
    "import cdsapi\n",
    "\n",
    "c = cdsapi.Client()\n",
    "\n",
    "c.retrieve(\n",
    "    'reanalysis-era5-land',\n",
    "    {\n",
    "        'variable': '2m_temperature',\n",
    "        'year': [\n",
    "            '2020', '2021', '2022', '2023', '2024',\n",
    "        ],\n",
    "        'month': [\n",
    "            '01', '02', '12',\n",
    "        ],\n",
    "        'day': [\n",
    "            '01', '02', '03',\n",
    "            '04', '05', '06',\n",
    "            '07', '08', '09',\n",
    "            '10', '11', '12',\n",
    "            '13', '14', '15',\n",
    "            '16', '17', '18',\n",
    "            '19', '20', '21',\n",
    "            '22', '23', '24',\n",
    "            '25', '26', '27',\n",
    "            '28', '29', '30',\n",
    "            '31',\n",
    "        ],\n",
    "        'time': [\n",
    "            '00:00', '01:00', '02:00',\n",
    "            '03:00', '04:00', '05:00',\n",
    "            '06:00', '07:00', '08:00',\n",
    "            '09:00', '10:00', '11:00',\n",
    "            '12:00', '13:00', '14:00',\n",
    "            '15:00', '16:00', '17:00',\n",
    "            '18:00', '19:00', '20:00',\n",
    "            '21:00', '22:00', '23:00',\n",
    "        ],\n",
    "        'area': [\n",
    "            -22.09, 26.39, -25.46,\n",
    "            32.06,\n",
    "        ],\n",
    "        'format': 'netcdf',\n",
    "    },\n",
    "    'ERA5-Land_tas_hourly_2020_2024.nc')"
   ]
  }
 ],
 "metadata": {
  "kernelspec": {
   "display_name": "testenv",
   "language": "python",
   "name": "python3"
  },
  "language_info": {
   "codemirror_mode": {
    "name": "ipython",
    "version": 3
   },
   "file_extension": ".py",
   "mimetype": "text/x-python",
   "name": "python",
   "nbconvert_exporter": "python",
   "pygments_lexer": "ipython3",
   "version": "3.12.2"
  }
 },
 "nbformat": 4,
 "nbformat_minor": 2
}
