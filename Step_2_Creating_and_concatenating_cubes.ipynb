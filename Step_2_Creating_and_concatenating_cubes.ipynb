{
 "cells": [
  {
   "cell_type": "code",
   "execution_count": null,
   "metadata": {},
   "outputs": [],
   "source": [
    "# For concatenation\n",
    "import iris\n",
    "from iris.util import equalise_attributes\n",
    "\n",
    "# For plotting checks\n",
    "import iris.quickplot as qplt\n",
    "import matplotlib.pyplot as plt\n",
    "import cartopy.crs as ccrs\n",
    "import geopandas as gpd"
   ]
  },
  {
   "cell_type": "markdown",
   "metadata": {},
   "source": [
    "## Concatenation"
   ]
  },
  {
   "cell_type": "code",
   "execution_count": null,
   "metadata": {},
   "outputs": [],
   "source": [
    "# Import data\n",
    "tas1 = iris.load_cube('/Users/maxwhite/Documents/Met_Office_Work/Heat_index_Algorithms/Data/Limpopo/ERA5-Land/tas/ERA5-Land_tas_hourly_1950_1954.nc')\n",
    "tas2 = iris.load_cube('/Users/maxwhite/Documents/Met_Office_Work/Heat_index_Algorithms/Data/Limpopo/ERA5-Land/tas/ERA5-Land_tas_hourly_1955_1959.nc')\n",
    "tas3 = iris.load_cube('/Users/maxwhite/Documents/Met_Office_Work/Heat_index_Algorithms/Data/Limpopo/ERA5-Land/tas/ERA5-Land_tas_hourly_1960_1964.nc')\n",
    "tas4 = iris.load_cube('/Users/maxwhite/Documents/Met_Office_Work/Heat_index_Algorithms/Data/Limpopo/ERA5-Land/tas/ERA5-Land_tas_hourly_1965_1969.nc')\n",
    "tas5 = iris.load_cube('/Users/maxwhite/Documents/Met_Office_Work/Heat_index_Algorithms/Data/Limpopo/ERA5-Land/tas/ERA5-Land_tas_hourly_1970_1974.nc')\n",
    "tas6 = iris.load_cube('/Users/maxwhite/Documents/Met_Office_Work/Heat_index_Algorithms/Data/Limpopo/ERA5-Land/tas/ERA5-Land_tas_hourly_1975_1979.nc')\n",
    "tas7 = iris.load_cube('/Users/maxwhite/Documents/Met_Office_Work/Heat_index_Algorithms/Data/Limpopo/ERA5-Land/tas/ERA5-Land_tas_hourly_1980_1984.nc')\n",
    "tas8 = iris.load_cube('/Users/maxwhite/Documents/Met_Office_Work/Heat_index_Algorithms/Data/Limpopo/ERA5-Land/tas/ERA5-Land_tas_hourly_1985_1989.nc')\n",
    "tas9 = iris.load_cube('/Users/maxwhite/Documents/Met_Office_Work/Heat_index_Algorithms/Data/Limpopo/ERA5-Land/tas/ERA5-Land_tas_hourly_1990_1994.nc')\n",
    "tas10 = iris.load_cube('/Users/maxwhite/Documents/Met_Office_Work/Heat_index_Algorithms/Data/Limpopo/ERA5-Land/tas/ERA5-Land_tas_hourly_1995_1999.nc')\n",
    "tas11 = iris.load_cube('/Users/maxwhite/Documents/Met_Office_Work/Heat_index_Algorithms/Data/Limpopo/ERA5-Land/tas/ERA5-Land_tas_hourly_2000_2004.nc')\n",
    "tas12 = iris.load_cube('/Users/maxwhite/Documents/Met_Office_Work/Heat_index_Algorithms/Data/Limpopo/ERA5-Land/tas/ERA5-Land_tas_hourly_2005_2009.nc')\n",
    "tas13 = iris.load_cube('/Users/maxwhite/Documents/Met_Office_Work/Heat_index_Algorithms/Data/Limpopo/ERA5-Land/tas/ERA5-Land_tas_hourly_2010_2014.nc')\n",
    "tas14 = iris.load_cube('/Users/maxwhite/Documents/Met_Office_Work/Heat_index_Algorithms/Data/Limpopo/ERA5-Land/tas/ERA5-Land_tas_hourly_2015_2019.nc')\n",
    "tas15 = iris.load_cube('/Users/maxwhite/Documents/Met_Office_Work/Heat_index_Algorithms/Data/Limpopo/ERA5-Land/tas/ERA5-Land_tas_hourly_2020_2024.nc')\n",
    "\n",
    "# Create a list of cubes\n",
    "tas_list = iris.cube.CubeList([tas1, tas2, tas3, tas4, tas5, tas6, tas7, tas8, tas9, tas10, tas11, tas12, tas13, tas14, tas15])\n",
    "\n",
    "# Remove attributes which can cause concatenation issues\n",
    "tas_removed_attributes = equalise_attributes(tas_list)\n",
    "print(tas_removed_attributes)\n",
    "\n",
    "# Concatenate the cubes\n",
    "tas_cube_concatenated = tas_list.concatenate_cube()\n",
    "\n",
    "iris.save(tas_cube_concatenated, '/Users/maxwhite/Documents/Met_Office_Work/Heat_index_Algorithms/Data/Limpopo/ERA5-Land/ERA5-Land_tas_hourly_1950_2024.nc')"
   ]
  },
  {
   "cell_type": "code",
   "execution_count": null,
   "metadata": {},
   "outputs": [],
   "source": [
    "td1 = iris.load_cube('/Users/maxwhite/Documents/Met_Office_Work/Heat_index_Algorithms/Data/Limpopo/ERA5-Land/td/ERA5-Land_td_hourly_1950_1954.nc')\n",
    "td2 = iris.load_cube('/Users/maxwhite/Documents/Met_Office_Work/Heat_index_Algorithms/Data/Limpopo/ERA5-Land/td/ERA5-Land_td_hourly_1955_1959.nc')\n",
    "td3 = iris.load_cube('/Users/maxwhite/Documents/Met_Office_Work/Heat_index_Algorithms/Data/Limpopo/ERA5-Land/td/ERA5-Land_td_hourly_1960_1964.nc')\n",
    "td4 = iris.load_cube('/Users/maxwhite/Documents/Met_Office_Work/Heat_index_Algorithms/Data/Limpopo/ERA5-Land/td/ERA5-Land_td_hourly_1965_1969.nc')\n",
    "td5 = iris.load_cube('/Users/maxwhite/Documents/Met_Office_Work/Heat_index_Algorithms/Data/Limpopo/ERA5-Land/td/ERA5-Land_td_hourly_1970_1974.nc')\n",
    "td6 = iris.load_cube('/Users/maxwhite/Documents/Met_Office_Work/Heat_index_Algorithms/Data/Limpopo/ERA5-Land/td/ERA5-Land_td_hourly_1975_1979.nc')\n",
    "td7 = iris.load_cube('/Users/maxwhite/Documents/Met_Office_Work/Heat_index_Algorithms/Data/Limpopo/ERA5-Land/td/ERA5-Land_td_hourly_1980_1984.nc')\n",
    "td8 = iris.load_cube('/Users/maxwhite/Documents/Met_Office_Work/Heat_index_Algorithms/Data/Limpopo/ERA5-Land/td/ERA5-Land_td_hourly_1985_1989.nc')\n",
    "td9 = iris.load_cube('/Users/maxwhite/Documents/Met_Office_Work/Heat_index_Algorithms/Data/Limpopo/ERA5-Land/td/ERA5-Land_td_hourly_1990_1994.nc')\n",
    "td10 = iris.load_cube('/Users/maxwhite/Documents/Met_Office_Work/Heat_index_Algorithms/Data/Limpopo/ERA5-Land/td/ERA5-Land_td_hourly_1995_1999.nc')\n",
    "td11 = iris.load_cube('/Users/maxwhite/Documents/Met_Office_Work/Heat_index_Algorithms/Data/Limpopo/ERA5-Land/td/ERA5-Land_td_hourly_2000_2004.nc')\n",
    "td12 = iris.load_cube('/Users/maxwhite/Documents/Met_Office_Work/Heat_index_Algorithms/Data/Limpopo/ERA5-Land/td/ERA5-Land_td_hourly_2005_2009.nc')\n",
    "td13 = iris.load_cube('/Users/maxwhite/Documents/Met_Office_Work/Heat_index_Algorithms/Data/Limpopo/ERA5-Land/td/ERA5-Land_td_hourly_2010_2014.nc')\n",
    "td14 = iris.load_cube('/Users/maxwhite/Documents/Met_Office_Work/Heat_index_Algorithms/Data/Limpopo/ERA5-Land/td/ERA5-Land_td_hourly_2015_2019.nc')\n",
    "td15 = iris.load_cube('/Users/maxwhite/Documents/Met_Office_Work/Heat_index_Algorithms/Data/Limpopo/ERA5-Land/td/ERA5-Land_td_hourly_2020_2024.nc')\n",
    "\n",
    "# Create a list of cubes\n",
    "td_list = iris.cube.CubeList([td1, td2, td3, td4, td5, td6, td7, td8, td9, td10, td11, td12, td13, td14, td15])\n",
    "\n",
    "# Remove attributes which can cause concatenation issues\n",
    "td_removed_attributes = equalise_attributes(td_list)\n",
    "print(td_removed_attributes)\n",
    "\n",
    "# Concatenate the cubes\n",
    "td_cube_concatenated = td_list.concatenate_cube()\n",
    "\n",
    "iris.save(td_cube_concatenated, '/Users/maxwhite/Documents/Met_Office_Work/Heat_index_Algorithms/Data/Limpopo/ERA5-Land/ERA5-Land_td_hourly_1950_2024.nc')\n"
   ]
  },
  {
   "cell_type": "markdown",
   "metadata": {},
   "source": [
    "## Masking using a shapefile"
   ]
  },
  {
   "cell_type": "code",
   "execution_count": null,
   "metadata": {},
   "outputs": [],
   "source": [
    "# Loading the data\n",
    "tas_cube = iris.load_cube('/Users/maxwhite/Documents/Met_Office_Work/Heat_index_Algorithms/Data/Limpopo/ERA5-Land/ERA5-Land_tas_hourly_1950_2024.nc')\n",
    "td_cube = iris.load_cube('/Users/maxwhite/Documents/Met_Office_Work/Heat_index_Algorithms/Data/Limpopo/ERA5-Land/ERA5-Land_td_hourly_1950_2024.nc')\n",
    "\n",
    "# Loading and editing the shapefile to create a shapefile outline\n",
    "south_africa = gpd.read_file('/Users/maxwhite/Documents/Met_Office_Work/Heat_index_Algorithms/Data/Limpopo/Shapefiles/LocalMunicipalities2018_Final.shp')\n",
    "limpopo = south_africa[south_africa['PROVINCE'] == 'LIM']\n",
    "limpopo_outline = limpopo.dissolve()\n",
    "limpopo_outline = limpopo_outline.to_crs(epsg=4326)\n",
    "limpopo_outline.plot()"
   ]
  },
  {
   "cell_type": "code",
   "execution_count": null,
   "metadata": {},
   "outputs": [],
   "source": [
    "# Loading the data\n",
    "    # tas_cube = iris.load_cube('/Users/maxwhite/Documents/Met_Office_Work/Heat_index_Algorithms/Data/Limpopo/ERA5-Land/ERA5-Land_tas_hourly_1950_2024.nc')\n",
    "    # td_cube = iris.load_cube('/Users/maxwhite/Documents/Met_Office_Work/Heat_index_Algorithms/Data/Limpopo/ERA5-Land/ERA5-Land_td_hourly_1950_2024.nc')\n",
    "    # limpopo_shapefile = gpd.read_file('/Users/maxwhite/Documents/Met_Office_Work/Heat_index_Algorithms/Limpopo_Province_shapefile.geojson')\n",
    "\n",
    "# Extracting the data\n",
    "\n",
    "tas_cube_masked = iris.util.mask_cube_from_shapefile(tas_cube, limpopo_outline.geometry[0], minimum_weight=0.5)\n",
    "tas_cube_masked.fill_value = -9999\n",
    "\n",
    "td_cube_masked = iris.util.mask_cube_from_shapefile(td_cube, limpopo_outline.geometry[0], minimum_weight=0.5)\n",
    "td_cube_masked_fill_value = -9999\n",
    "\n",
    "# Saving the data\n",
    "iris.save(tas_cube_masked, '/Users/maxwhite/Documents/Met_Office_Work/Heat_index_Algorithms/Data/Limpopo/ERA5-Land/ERA5-Land_tas_hourly_1950_2024_Limpopo.nc')\n",
    "iris.save(td_cube_masked, '/Users/maxwhite/Documents/Met_Office_Work/Heat_index_Algorithms/Data/Limpopo/ERA5-Land/ERA5-Land_td_hourly_1950_2024_Limpopo.nc')\n",
    "\n"
   ]
  },
  {
   "cell_type": "code",
   "execution_count": null,
   "metadata": {},
   "outputs": [],
   "source": [
    "# Checking the masking minimum weight\n",
    "masked_tas_cube = tas_cube_masked.copy().collapsed('time', iris.analysis.MEAN)\n",
    "\n",
    "# Create a figure with the projection you want\n",
    "fig, ax = plt.subplots(figsize=(10, 10), subplot_kw={'projection': ccrs.PlateCarree()})\n",
    "\n",
    "qplt.pcolormesh(masked_tas_cube, cmap='Reds', axes=ax)\n",
    "\n",
    "# Overlay the GeoDataFrame, ensuring it's in the same CRS\n",
    "limpopo_outline.to_crs(epsg=4326).plot(ax=ax, facecolor='none', edgecolor='black')\n",
    "\n",
    "plt.show()"
   ]
  }
 ],
 "metadata": {
  "kernelspec": {
   "display_name": "testenv",
   "language": "python",
   "name": "python3"
  },
  "language_info": {
   "codemirror_mode": {
    "name": "ipython",
    "version": 3
   },
   "file_extension": ".py",
   "mimetype": "text/x-python",
   "name": "python",
   "nbconvert_exporter": "python",
   "pygments_lexer": "ipython3",
   "version": "3.12.2"
  }
 },
 "nbformat": 4,
 "nbformat_minor": 2
}
